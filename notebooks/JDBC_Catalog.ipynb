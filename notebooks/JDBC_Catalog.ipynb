{
 "cells": [
  {
   "cell_type": "code",
   "execution_count": 6,
   "id": "9aaf5243-18d3-4116-bc2e-d1a976f1c97e",
   "metadata": {},
   "outputs": [],
   "source": [
    "from pyflink.table.catalog import JdbcCatalog\n",
    "from pyflink.table import EnvironmentSettings, TableEnvironment, DataTypes, CsvTableSource\n",
    "import datetime"
   ]
  },
  {
   "cell_type": "code",
   "execution_count": 7,
   "id": "64d1437d-1ae6-4db0-be98-1b140068c76a",
   "metadata": {},
   "outputs": [
    {
     "name": "stderr",
     "output_type": "stream",
     "text": [
      "SLF4J: Class path contains multiple SLF4J bindings.\n",
      "SLF4J: Found binding in [jar:file:/opt/flink-1.15.3/lib/log4j-slf4j-impl-2.17.1.jar!/org/slf4j/impl/StaticLoggerBinder.class]\n",
      "SLF4J: Found binding in [jar:file:/opt/hadoop-2.7.7/share/hadoop/common/lib/slf4j-log4j12-1.7.10.jar!/org/slf4j/impl/StaticLoggerBinder.class]\n",
      "SLF4J: See http://www.slf4j.org/codes.html#multiple_bindings for an explanation.\n",
      "SLF4J: Actual binding is of type [org.apache.logging.slf4j.Log4jLoggerFactory]\n"
     ]
    }
   ],
   "source": [
    "environment_settings = EnvironmentSettings.in_streaming_mode()\n",
    "\n",
    "t_env = TableEnvironment.create(environment_settings)\n"
   ]
  },
  {
   "cell_type": "code",
   "execution_count": 8,
   "id": "ebf48dbf-fd3e-4b2b-9096-4cd0015aaa2e",
   "metadata": {},
   "outputs": [],
   "source": [
    "name = \"my_catalog\"\n",
    "default_database = \"ecommerce\"\n",
    "username = \"team\"\n",
    "password = \"team1234\"\n",
    "base_url = \"jdbc:mysql://localhost:3306\"\n",
    "catalog = JdbcCatalog(name, default_database, username, password, base_url)\n",
    "t_env.register_catalog(\"my_catalog\", catalog)\n",
    "# set the JdbcCatalog as the current catalog of the session\n",
    "t_env.use_catalog(\"my_catalog\")"
   ]
  },
  {
   "cell_type": "code",
   "execution_count": 14,
   "id": "3bd93c71-a56b-4fc5-b450-1128822f0cf9",
   "metadata": {},
   "outputs": [
    {
     "name": "stdout",
     "output_type": "stream",
     "text": [
      "\n",
      "Registered Tables List\n",
      "['brands', 'products']\n"
     ]
    }
   ],
   "source": [
    "\n",
    "##############################\n",
    "print('\\nRegistered Tables List')\n",
    "print(t_env.list_tables())"
   ]
  },
  {
   "cell_type": "code",
   "execution_count": 15,
   "id": "c9d64228-4168-4826-9d83-8bf26b53afa3",
   "metadata": {},
   "outputs": [],
   "source": [
    "\n",
    "# products is a table\n",
    "# get table from source\n",
    "products = t_env.from_path('products')"
   ]
  },
  {
   "cell_type": "code",
   "execution_count": 16,
   "id": "92f20e24-f8ee-46aa-8cb0-c0e4113eaf30",
   "metadata": {},
   "outputs": [
    {
     "name": "stdout",
     "output_type": "stream",
     "text": [
      "+----+-------------+--------------------------------+-------------+---------------------+---------------------+\n",
      "| op |          id |                           name |       price |           create_ts |           update_ts |\n",
      "+----+-------------+--------------------------------+-------------+---------------------+---------------------+\n",
      "| +I |           1 |                       product1 |         100 | 2023-01-20 06:00:53 | 2023-01-20 06:00:53 |\n",
      "| +I |           2 |                       product2 |         200 | 2023-01-20 06:00:53 | 2023-01-20 06:00:53 |\n",
      "| +I |           3 |                       product3 |         300 | 2023-01-20 06:00:53 | 2023-01-20 06:00:53 |\n",
      "| +I |           4 |                       product4 |         400 | 2023-01-20 06:00:55 | 2023-01-20 06:00:55 |\n",
      "+----+-------------+--------------------------------+-------------+---------------------+---------------------+\n",
      "4 rows in set\n"
     ]
    }
   ],
   "source": [
    "products.execute().print()"
   ]
  },
  {
   "cell_type": "code",
   "execution_count": null,
   "id": "87846a76-de03-4f96-8528-e01f304c6407",
   "metadata": {},
   "outputs": [],
   "source": []
  }
 ],
 "metadata": {
  "kernelspec": {
   "display_name": "Python 3 (ipykernel)",
   "language": "python",
   "name": "python3"
  },
  "language_info": {
   "codemirror_mode": {
    "name": "ipython",
    "version": 3
   },
   "file_extension": ".py",
   "mimetype": "text/x-python",
   "name": "python",
   "nbconvert_exporter": "python",
   "pygments_lexer": "ipython3",
   "version": "3.8.12"
  }
 },
 "nbformat": 4,
 "nbformat_minor": 5
}
