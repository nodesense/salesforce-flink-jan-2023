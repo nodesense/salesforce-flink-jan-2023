{
 "cells": [
  {
   "cell_type": "code",
   "execution_count": 1,
   "id": "708c1136-7d10-4ee4-8ae4-855ac2292df7",
   "metadata": {},
   "outputs": [],
   "source": [
    "from pyflink.common import WatermarkStrategy, Row\n",
    "from pyflink.common.serialization import Encoder\n",
    "from pyflink.common.typeinfo import Types\n",
    "from pyflink.datastream import StreamExecutionEnvironment\n",
    "from pyflink.datastream.connectors import FileSink, OutputFileConfig, NumberSequenceSource\n",
    "from pyflink.datastream.functions import RuntimeContext, MapFunction\n",
    "from pyflink.datastream.state import ValueStateDescriptor\n",
    "from pyflink.common.serialization import JsonRowDeserializationSchema\n",
    "from pyflink.common.typeinfo import Types\n",
    "from pyflink.datastream import StreamExecutionEnvironment\n",
    "from pyflink.datastream.connectors import FlinkKafkaConsumer,FlinkKafkaProducer\n",
    "from pyflink.common.serialization import SimpleStringSchema, SerializationSchema,JsonRowSerializationSchema,Encoder\n",
    "from pyflink.common.typeinfo import Types\n",
    "import json\n",
    "from pyflink.common import Configuration"
   ]
  },
  {
   "cell_type": "code",
   "execution_count": 2,
   "id": "0278c411-ed85-4f75-8c30-824c5578c9e1",
   "metadata": {},
   "outputs": [],
   "source": [
    "# https://nightlies.apache.org/flink/flink-docs-master/docs/dev/python/python_config/\n",
    "# wget  -P $FLINK_HOME/lib https://repo1.maven.org/maven2/org/apache/flink/flink-sql-connector-kafka/1.15.3/flink-sql-connector-kafka-1.15.3.jar\n",
    "\n",
    "#     kafka-topics  --create --bootstrap-server broker:9092 --replication-factor 1 --partitions 3 --topic sensor-data\n",
    "#     kafka-console-producer --bootstrap-server broker:9092 --topic sensor-data\n",
    "\n",
    "#  $FLINK_HOME/bin/flink  run -m localhost:8181 -py /home/training/fastdata-stack/flink/code/KafkaHelloWorld.py\n",
    "#  $FLINK_HOME/bin/flink  run -m localhost:8282 -py /home/training/fastdata-stack/flink/code/KafkaHelloWorld.py\n",
    "\n",
    "# {\"tag\": \"sensor1\", \"value\": 32.3}\n",
    "# {\"tag\": \"sensor2\", \"value\": 34.3}\n",
    "#config = Configuration()\n",
    "#config.set_integer(\"python.fn-execution.bundle.size\", 1000)\n",
    "\n",
    "#python.executable\n"
   ]
  },
  {
   "cell_type": "code",
   "execution_count": 3,
   "id": "e75fb0b8-c33c-408e-a912-f0e05ccb10cd",
   "metadata": {},
   "outputs": [
    {
     "name": "stderr",
     "output_type": "stream",
     "text": [
      "SLF4J: Class path contains multiple SLF4J bindings.\n",
      "SLF4J: Found binding in [jar:file:/opt/flink-1.15.3/lib/log4j-slf4j-impl-2.17.1.jar!/org/slf4j/impl/StaticLoggerBinder.class]\n",
      "SLF4J: Found binding in [jar:file:/opt/hadoop-2.7.7/share/hadoop/common/lib/slf4j-log4j12-1.7.10.jar!/org/slf4j/impl/StaticLoggerBinder.class]\n",
      "SLF4J: See http://www.slf4j.org/codes.html#multiple_bindings for an explanation.\n",
      "SLF4J: Actual binding is of type [org.apache.logging.slf4j.Log4jLoggerFactory]\n"
     ]
    },
    {
     "data": {
      "text/plain": [
       "<pyflink.datastream.checkpoint_config.CheckpointConfig at 0x7f0c4f6c82b0>"
      ]
     },
     "execution_count": 3,
     "metadata": {},
     "output_type": "execute_result"
    }
   ],
   "source": [
    "\n",
    "env = StreamExecutionEnvironment.get_execution_environment()\n",
    "env.enable_checkpointing(1000 * 10) # 10 sec\n",
    "# use case 1 : App crashes, restart in another container/task manager, this point is used to recover data\n",
    "# use case 2: /application stopped, restarted by developer to continue from where it left\n",
    "env.get_checkpoint_config().set_checkpoint_storage_dir(\"hdfs://namenode:9000/checkpoints-data-jupyter\")\n"
   ]
  },
  {
   "cell_type": "code",
   "execution_count": null,
   "id": "6a5a5b07-0244-443e-baeb-39f9c36e80b7",
   "metadata": {},
   "outputs": [],
   "source": [
    "# save points\n",
    "# is snapshots wokrs very similar to checkpoints, the state is stored into DFS, with metadata, directory path etc\n",
    "# save point must point to unique directory , NOT two save points to same directory\n",
    "\n",
    "# you plan an update rollout, system maintenance, rollback feature, like versioning : Jan 02 2023\n",
    "# you take snapshot using save point , stored in teh directory hdfs://savepoints/appname1/jan-02-2023 - this has good state until jan 02 2023 before new deployment..\n",
    "# you deployed new released, something messed up\n",
    "\n",
    "# on Jan 04, 2023 someone notice issues, here we consumed, calculated results, updated targets etc...\n",
    "\n",
    "# you fix the code on Jan 05, 2023, deploy the new code [check is still very latest until Jan 05, we cannot use that check point, as it has incorrect state]\n",
    "# Here we can do save point\n",
    "# stop your application, deploy new application.. then resume the application from saved save point hdfs://savepoints/appname1/jan-02-2023\n",
    "\n"
   ]
  },
  {
   "cell_type": "code",
   "execution_count": 4,
   "id": "b355607a-bb2d-4271-b669-7a34306f7c59",
   "metadata": {},
   "outputs": [],
   "source": [
    "\n",
    "deserialization_schema = JsonRowDeserializationSchema.builder().type_info(\n",
    "                             type_info=Types.ROW_NAMED(\n",
    "                             [\"tag\",\"value\"], [Types.STRING(), Types.DOUBLE()])).build()\n"
   ]
  },
  {
   "cell_type": "code",
   "execution_count": 5,
   "id": "bb060bcc-c1aa-4e3e-97a1-49fdd7d2c2a9",
   "metadata": {},
   "outputs": [],
   "source": [
    "\n",
    "kafka_consumer = FlinkKafkaConsumer(\n",
    "    topics='sensor-data',\n",
    "    deserialization_schema=deserialization_schema,\n",
    "    properties={'bootstrap.servers': 'broker:9092', 'group.id': 'sensor-data-group-1'})\n"
   ]
  },
  {
   "cell_type": "code",
   "execution_count": 6,
   "id": "c7692d73-2f47-4a81-a88f-d431a098a0e7",
   "metadata": {},
   "outputs": [
    {
     "name": "stderr",
     "output_type": "stream",
     "text": [
      "WARNING: An illegal reflective access operation has occurred\n",
      "WARNING: Illegal reflective access by org.apache.flink.api.java.ClosureCleaner (file:/opt/flink-1.15.3/lib/flink-dist-1.15.3.jar) to field java.util.Properties.serialVersionUID\n",
      "WARNING: Please consider reporting this to the maintainers of org.apache.flink.api.java.ClosureCleaner\n",
      "WARNING: Use --illegal-access=warn to enable warnings of further illegal reflective access operations\n",
      "WARNING: All illegal access operations will be denied in a future release\n"
     ]
    }
   ],
   "source": [
    "# create a data stream from kafka consmer \n",
    "ds = env.add_source(kafka_consumer)"
   ]
  },
  {
   "cell_type": "code",
   "execution_count": 7,
   "id": "4397e24f-5eac-4ec3-8d08-40f26b6bc5a9",
   "metadata": {},
   "outputs": [
    {
     "data": {
      "text/plain": [
       "<pyflink.datastream.data_stream.DataStreamSink at 0x7f0c4f6c8730>"
      ]
     },
     "execution_count": 7,
     "metadata": {},
     "output_type": "execute_result"
    }
   ],
   "source": [
    "ds.print()"
   ]
  },
  {
   "cell_type": "code",
   "execution_count": null,
   "id": "6dd1729a-22a5-440a-9140-bd5bf9adcbd6",
   "metadata": {},
   "outputs": [
    {
     "name": "stdout",
     "output_type": "stream",
     "text": [
      "6> +I[sensor1,32.3]\n",
      "5> +I[sensor2,34.3]\n",
      "4> +I[sensor1,32.3]\n",
      "4> +I[sensor2,34.3]\n"
     ]
    }
   ],
   "source": [
    "env.execute('state_access_demo')"
   ]
  },
  {
   "cell_type": "code",
   "execution_count": null,
   "id": "9b01de42-000e-4e73-b911-6d79dc600eac",
   "metadata": {},
   "outputs": [],
   "source": []
  }
 ],
 "metadata": {
  "kernelspec": {
   "display_name": "Python 3 (ipykernel)",
   "language": "python",
   "name": "python3"
  },
  "language_info": {
   "codemirror_mode": {
    "name": "ipython",
    "version": 3
   },
   "file_extension": ".py",
   "mimetype": "text/x-python",
   "name": "python",
   "nbconvert_exporter": "python",
   "pygments_lexer": "ipython3",
   "version": "3.8.12"
  }
 },
 "nbformat": 4,
 "nbformat_minor": 5
}
