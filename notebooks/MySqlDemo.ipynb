{
 "cells": [
  {
   "cell_type": "code",
   "execution_count": null,
   "id": "08422946-de74-404e-8359-af7a3e1af0d3",
   "metadata": {},
   "outputs": [],
   "source": [
    "# wget  -P $FLINK_HOME/lib https://repo1.maven.org/maven2/mysql/mysql-connector-java/8.0.29/mysql-connector-java-8.0.29.jar\n",
    "# wget  -P $FLINK_HOME/lib https://repo1.maven.org/maven2/org/apache/flink/flink-connector-jdbc/1.15.3/flink-connector-jdbc-1.15.3.jar"
   ]
  },
  {
   "cell_type": "code",
   "execution_count": 1,
   "id": "9ff3385c-6d8c-4d91-8126-1cad4769df4e",
   "metadata": {},
   "outputs": [],
   "source": [
    "from pyflink.datastream import StreamExecutionEnvironment, TimeCharacteristic\n",
    "from pyflink.table import StreamTableEnvironment, EnvironmentSettings\n",
    "from pyflink.common.typeinfo import *\n",
    "from pyflink.datastream import StreamExecutionEnvironment\n",
    "from pyflink.table import StreamTableEnvironment, EnvironmentSettings\n",
    "\n",
    "from pyflink.datastream import StreamExecutionEnvironment\n",
    "\n",
    "from pyflink.table import (\n",
    "    StreamTableEnvironment,\n",
    ")\n",
    "\n",
    "from pathlib import Path"
   ]
  },
  {
   "cell_type": "code",
   "execution_count": 2,
   "id": "55db42c6-5d9b-44fe-87b9-e671ada4770f",
   "metadata": {},
   "outputs": [
    {
     "name": "stderr",
     "output_type": "stream",
     "text": [
      "SLF4J: Class path contains multiple SLF4J bindings.\n",
      "SLF4J: Found binding in [jar:file:/opt/flink-1.15.3/lib/log4j-slf4j-impl-2.17.1.jar!/org/slf4j/impl/StaticLoggerBinder.class]\n",
      "SLF4J: Found binding in [jar:file:/opt/hadoop-2.7.7/share/hadoop/common/lib/slf4j-log4j12-1.7.10.jar!/org/slf4j/impl/StaticLoggerBinder.class]\n",
      "SLF4J: See http://www.slf4j.org/codes.html#multiple_bindings for an explanation.\n",
      "SLF4J: Actual binding is of type [org.apache.logging.slf4j.Log4jLoggerFactory]\n"
     ]
    }
   ],
   "source": [
    "env = StreamExecutionEnvironment.get_execution_environment()\n",
    "env_settings = EnvironmentSettings.Builder().build()\n",
    "t_env = StreamTableEnvironment.create(stream_execution_environment=env, environment_settings=env_settings)\n",
    "# specify connector and format jars\n",
    "# /home/krish/flink/lib/mysql-connector-java-8.0.29.jar\n",
    "\n",
    "#t_env.get_config().get_configuration().set_string(\"pipeline.jars\", \"file:///opt/flink-1.15.3/lib/flink-connector-jdbc-1.15.3.jar;file:///opt/flink-1.15.3/lib/mysql-connector-java-8.0.29.jar\")\n"
   ]
  },
  {
   "cell_type": "code",
   "execution_count": 3,
   "id": "08237cf7-486e-4413-ac33-787aa627b325",
   "metadata": {},
   "outputs": [],
   "source": [
    "PRODUCT_DDL =\"\"\"\n",
    "  CREATE TABLE products (\n",
    "        id INT,\n",
    "        name STRING,\n",
    "        price INT\n",
    "  )\n",
    "  WITH (\n",
    "'connector' = 'jdbc',\n",
    "'url' = 'jdbc:mysql://localhost:3306/ecommerce?user=team&password=team1234',\n",
    "'table-name' = 'products'\n",
    ")\n",
    "\"\"\""
   ]
  },
  {
   "cell_type": "code",
   "execution_count": 4,
   "id": "5147f139-f263-4fc4-b43e-ecdafea93f7d",
   "metadata": {},
   "outputs": [
    {
     "name": "stdout",
     "output_type": "stream",
     "text": [
      "OK\n"
     ]
    }
   ],
   "source": [
    "t_env.execute_sql(PRODUCT_DDL).print()"
   ]
  },
  {
   "cell_type": "code",
   "execution_count": 5,
   "id": "ed616956-7999-47c7-b4b1-a807c61cdc07",
   "metadata": {},
   "outputs": [
    {
     "name": "stdout",
     "output_type": "stream",
     "text": [
      "['products']\n"
     ]
    }
   ],
   "source": [
    "\n",
    "\n",
    "print(t_env.list_tables())\n",
    "\n"
   ]
  },
  {
   "cell_type": "code",
   "execution_count": 6,
   "id": "f0e59a24-1972-45cf-a08c-1efe3a628611",
   "metadata": {},
   "outputs": [
    {
     "name": "stdout",
     "output_type": "stream",
     "text": [
      "(\n",
      "  `name` STRING,\n",
      "  `price` INT\n",
      ")\n"
     ]
    }
   ],
   "source": [
    "table2 = t_env.sql_query(\"SELECT name,price from products\")\n",
    "table2.print_schema()"
   ]
  },
  {
   "cell_type": "code",
   "execution_count": 7,
   "id": "e4104303-ebcb-44ca-97b0-7a2bd93753bd",
   "metadata": {},
   "outputs": [
    {
     "name": "stderr",
     "output_type": "stream",
     "text": [
      "WARNING: An illegal reflective access operation has occurred\n",
      "WARNING: Illegal reflective access by org.apache.flink.api.python.shaded.io.netty.util.internal.ReflectionUtil (file:/opt/flink-1.15.3/opt/flink-python_2.12-1.15.3.jar) to constructor java.nio.DirectByteBuffer(long,int)\n",
      "WARNING: Please consider reporting this to the maintainers of org.apache.flink.api.python.shaded.io.netty.util.internal.ReflectionUtil\n",
      "WARNING: Use --illegal-access=warn to enable warnings of further illegal reflective access operations\n",
      "WARNING: All illegal access operations will be denied in a future release\n",
      "Loading class `com.mysql.jdbc.Driver'. This is deprecated. The new driver class is `com.mysql.cj.jdbc.Driver'. The driver is automatically registered via the SPI and manual loading of the driver class is generally unnecessary.\n"
     ]
    },
    {
     "data": {
      "text/html": [
       "<div>\n",
       "<style scoped>\n",
       "    .dataframe tbody tr th:only-of-type {\n",
       "        vertical-align: middle;\n",
       "    }\n",
       "\n",
       "    .dataframe tbody tr th {\n",
       "        vertical-align: top;\n",
       "    }\n",
       "\n",
       "    .dataframe thead th {\n",
       "        text-align: right;\n",
       "    }\n",
       "</style>\n",
       "<table border=\"1\" class=\"dataframe\">\n",
       "  <thead>\n",
       "    <tr style=\"text-align: right;\">\n",
       "      <th></th>\n",
       "      <th>name</th>\n",
       "      <th>price</th>\n",
       "    </tr>\n",
       "  </thead>\n",
       "  <tbody>\n",
       "    <tr>\n",
       "      <th>0</th>\n",
       "      <td>product1</td>\n",
       "      <td>100</td>\n",
       "    </tr>\n",
       "    <tr>\n",
       "      <th>1</th>\n",
       "      <td>product2</td>\n",
       "      <td>200</td>\n",
       "    </tr>\n",
       "    <tr>\n",
       "      <th>2</th>\n",
       "      <td>product3</td>\n",
       "      <td>300</td>\n",
       "    </tr>\n",
       "    <tr>\n",
       "      <th>3</th>\n",
       "      <td>product4</td>\n",
       "      <td>400</td>\n",
       "    </tr>\n",
       "  </tbody>\n",
       "</table>\n",
       "</div>"
      ],
      "text/plain": [
       "       name  price\n",
       "0  product1    100\n",
       "1  product2    200\n",
       "2  product3    300\n",
       "3  product4    400"
      ]
     },
     "execution_count": 7,
     "metadata": {},
     "output_type": "execute_result"
    }
   ],
   "source": [
    "table2.to_pandas()"
   ]
  },
  {
   "cell_type": "code",
   "execution_count": 8,
   "id": "5482eee0-bf10-413f-bccb-ae2c87b53dd5",
   "metadata": {},
   "outputs": [
    {
     "name": "stdout",
     "output_type": "stream",
     "text": [
      "+----+--------------------------------+-------------+\n",
      "| op |                           name |       price |\n",
      "+----+--------------------------------+-------------+\n",
      "| +I |                       product1 |         100 |\n",
      "| +I |                       product2 |         200 |\n",
      "| +I |                       product3 |         300 |\n",
      "| +I |                       product4 |         400 |\n",
      "+----+--------------------------------+-------------+\n",
      "4 rows in set\n"
     ]
    }
   ],
   "source": [
    "\n",
    "\n",
    "table2.execute().print()\n",
    "\n"
   ]
  },
  {
   "cell_type": "code",
   "execution_count": null,
   "id": "71e2743e-6cbf-4c49-af27-4c9754c7d395",
   "metadata": {},
   "outputs": [],
   "source": []
  }
 ],
 "metadata": {
  "kernelspec": {
   "display_name": "Python 3 (ipykernel)",
   "language": "python",
   "name": "python3"
  },
  "language_info": {
   "codemirror_mode": {
    "name": "ipython",
    "version": 3
   },
   "file_extension": ".py",
   "mimetype": "text/x-python",
   "name": "python",
   "nbconvert_exporter": "python",
   "pygments_lexer": "ipython3",
   "version": "3.8.12"
  }
 },
 "nbformat": 4,
 "nbformat_minor": 5
}
