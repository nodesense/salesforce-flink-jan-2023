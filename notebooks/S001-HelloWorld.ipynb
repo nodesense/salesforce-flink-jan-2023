{
 "cells": [
  {
   "cell_type": "code",
   "execution_count": 1,
   "id": "834dbc94-9f62-4383-9e90-c0ed8bc710ca",
   "metadata": {},
   "outputs": [
    {
     "data": {
      "text/plain": [
       "30"
      ]
     },
     "execution_count": 1,
     "metadata": {},
     "output_type": "execute_result"
    }
   ],
   "source": [
    "# your python code here\n",
    "\n",
    "# SHIFT + ENTER to run the code\n",
    "# the last expression result shall be printed by default or use print statement"
   ]
  },
  {
   "cell_type": "code",
   "execution_count": 4,
   "id": "eba65b6f-091e-4128-811d-5580046f3fb6",
   "metadata": {},
   "outputs": [],
   "source": [
    "from pyflink.table import EnvironmentSettings, TableEnvironment\n",
    "# Shift + Enter to run the cell"
   ]
  },
  {
   "cell_type": "code",
   "execution_count": 5,
   "id": "a44ba474-347d-47cb-98ef-1bf6d20c6004",
   "metadata": {},
   "outputs": [],
   "source": [
    "# Flink has two environemnts\n",
    "# Local Environment - current setup, (Flink Client, Job Manager, Task Manager) all runs on Single JRE\n",
    "# Remote Environment - Production setup (Flink Client, Job Manager, Task Manager runs on diffent JRE, distributed)\n",
    "\n",
    "# 3 flink components\n",
    "# 1. Flink Client, 2. Job Manager, 3. Task Manager"
   ]
  },
  {
   "cell_type": "code",
   "execution_count": 7,
   "id": "15809a02-df95-4d03-a26f-8164c1abc33c",
   "metadata": {},
   "outputs": [
    {
     "name": "stderr",
     "output_type": "stream",
     "text": [
      "SLF4J: Class path contains multiple SLF4J bindings.\n",
      "SLF4J: Found binding in [jar:file:/opt/flink-1.15.3/lib/log4j-slf4j-impl-2.17.1.jar!/org/slf4j/impl/StaticLoggerBinder.class]\n",
      "SLF4J: Found binding in [jar:file:/opt/hadoop-2.7.7/share/hadoop/common/lib/slf4j-log4j12-1.7.10.jar!/org/slf4j/impl/StaticLoggerBinder.class]\n",
      "SLF4J: See http://www.slf4j.org/codes.html#multiple_bindings for an explanation.\n",
      "SLF4J: Actual binding is of type [org.apache.logging.slf4j.Log4jLoggerFactory]\n"
     ]
    }
   ],
   "source": [
    "# create environment for batch mode \n",
    "# batch mode: work with   historic data, or static data\n",
    "# data is loaded once, job/task shall be optimized very much to get highest performance compared to stream mode\n",
    "# heavy optimization applied \n",
    "# produce single output at the end of processing [NOT INCREMENTAL OUTPUT]\n",
    "# in batch mode fucntion shall automatically create either Local or Remote environment based on \n",
    "# flink run command [discussed later]\n",
    "env = EnvironmentSettings.in_batch_mode()\n",
    "\n",
    "#   create table environment\n",
    "table_env = TableEnvironment.create(env)"
   ]
  },
  {
   "cell_type": "code",
   "execution_count": 8,
   "id": "47b70a4b-3757-446b-be37-009c31b48489",
   "metadata": {},
   "outputs": [],
   "source": [
    "# hardcoded data\n",
    "# [] - python type list, mutable - change\n",
    "# () = type  tuple, immutable - cannot change\n",
    "data = [ (\"Joe\", 28), (\"Mary\", 34), (\"Venkat\", 40) ] # 3 records\n",
    "columns = [\"name\", \"age\"]\n",
    "# create virtual table or view\n",
    "employee_table = table_env.from_elements(data, columns)"
   ]
  },
  {
   "cell_type": "code",
   "execution_count": 9,
   "id": "aa27117d-6a04-46af-8ed6-4233371a75f3",
   "metadata": {},
   "outputs": [
    {
     "name": "stdout",
     "output_type": "stream",
     "text": [
      "(\n",
      "  `name` STRING,\n",
      "  `age` BIGINT\n",
      ")\n"
     ]
    }
   ],
   "source": [
    "# flink always works with structured data means data + meta data \n",
    "# meta data = schema , columns, data types etc\n",
    "\n",
    "# flink too infer schema\n",
    "# print schema\n",
    "employee_table.print_schema()"
   ]
  },
  {
   "cell_type": "code",
   "execution_count": 10,
   "id": "6d8da39c-88a3-4ea0-931b-7b0c7fd75f22",
   "metadata": {},
   "outputs": [],
   "source": [
    "# pandas inbuilt, convert table data into pandas dataframe"
   ]
  },
  {
   "cell_type": "code",
   "execution_count": 11,
   "id": "0bd3e4af-40f3-4c0c-aaf7-4f6b9fcbc6fc",
   "metadata": {},
   "outputs": [
    {
     "name": "stdout",
     "output_type": "stream",
     "text": [
      "before\n",
      "[]\n",
      "after register\n",
      "['employees2']\n"
     ]
    }
   ],
   "source": [
    "print(\"before\")\n",
    "# flink has catalog, a catalog composed of many databases, databases shall have tables\n",
    "# by default,we have got default catalog, default database\n",
    "print(table_env.list_tables())\n",
    "\n",
    "# employee_table is python object reference to table API, where we can use filter, sort, join etc functions\n",
    "# or we can use Flink SQL, for flink sql, we need to register a table in the default catalog so that\n",
    "# we can use statments like SELECT * FROM employees2\n",
    "\n",
    "# whether we use python/java/scala employee_table api or SQL, both will yield same performance\n",
    "# under the hood, THE API/SQL shall be converted into DATA FLOW GRAPH\n",
    "\n",
    "# now register virtual table as table for flink sql\n",
    "# employees2 shall be created in default cataglog, default database\n",
    "table_env.register_table(\"employees2\", employee_table)\n",
    "\n",
    "print (\"after register\")\n",
    "print(table_env.list_tables())"
   ]
  },
  {
   "cell_type": "code",
   "execution_count": 16,
   "id": "1ab4b2e0-1180-4633-a010-9fe75e2485b8",
   "metadata": {},
   "outputs": [
    {
     "name": "stdout",
     "output_type": "stream",
     "text": [
      "(\n",
      "  `name` STRING,\n",
      "  `age` BIGINT\n",
      ")\n"
     ]
    }
   ],
   "source": [
    "# now we can run queries in SQL syntax\n",
    "# virtual table2\n",
    "# Lazy/delayed evaluation, this will not RUN the QUERY NOW\n",
    "# flink shall parse SQL, analysis the syntax only, not RUN the SQL\n",
    "# it derives schemas for the table2 obj\n",
    "# Parsing SQLs, APIs and creating/deriving SCHEMAs all done at Flink Client component before submitting Data Flow Graph to \n",
    "# Job Manager\n",
    "table2 = table_env.sql_query(\"SELECT name,  age from employees2\")\n",
    "table2.print_schema()"
   ]
  },
  {
   "cell_type": "code",
   "execution_count": 21,
   "id": "b2b4d58c-b747-42b7-87fc-b7b06a661e48",
   "metadata": {},
   "outputs": [
    {
     "name": "stdout",
     "output_type": "stream",
     "text": [
      "(\n",
      "  `name` STRING,\n",
      "  `age` BIGINT\n",
      ")\n",
      "+--------------------------------+----------------------+\n",
      "|                           name |                  age |\n",
      "+--------------------------------+----------------------+\n",
      "|                            Joe |                   28 |\n",
      "+--------------------------------+----------------------+\n",
      "1 row in set\n"
     ]
    },
    {
     "data": {
      "text/html": [
       "<div>\n",
       "<style scoped>\n",
       "    .dataframe tbody tr th:only-of-type {\n",
       "        vertical-align: middle;\n",
       "    }\n",
       "\n",
       "    .dataframe tbody tr th {\n",
       "        vertical-align: top;\n",
       "    }\n",
       "\n",
       "    .dataframe thead th {\n",
       "        text-align: right;\n",
       "    }\n",
       "</style>\n",
       "<table border=\"1\" class=\"dataframe\">\n",
       "  <thead>\n",
       "    <tr style=\"text-align: right;\">\n",
       "      <th></th>\n",
       "      <th>name</th>\n",
       "      <th>age</th>\n",
       "    </tr>\n",
       "  </thead>\n",
       "  <tbody>\n",
       "    <tr>\n",
       "      <th>0</th>\n",
       "      <td>Joe</td>\n",
       "      <td>28</td>\n",
       "    </tr>\n",
       "  </tbody>\n",
       "</table>\n",
       "</div>"
      ],
      "text/plain": [
       "  name  age\n",
       "0  Joe   28"
      ]
     },
     "execution_count": 21,
     "metadata": {},
     "output_type": "execute_result"
    }
   ],
   "source": [
    "# SQL API works with temp view, temp table, table registered in table environment\n",
    "# SQL is parsed, converted into AST, then generate Data Flow Graph\n",
    "table3 = table_env.sql_query(\"SELECT name,age FROM employees2 WHERE age <= 30\")\n",
    "table3.print_schema()\n",
    "table3.execute().print()\n",
    "# to_pandas is action, this runs/executes the Query on Job/Task manager\n",
    "table3.to_pandas() # last cell expression printed"
   ]
  },
  {
   "cell_type": "code",
   "execution_count": 18,
   "id": "12b4f2fa-ee62-47fe-b7c0-c9599e996082",
   "metadata": {},
   "outputs": [
    {
     "name": "stdout",
     "output_type": "stream",
     "text": [
      "== Abstract Syntax Tree ==\n",
      "LogicalProject(name=[$0], age=[$1])\n",
      "+- LogicalFilter(condition=[<=($1, 30)])\n",
      "   +- LogicalTableScan(table=[[default_catalog, default_database, Unregistered_TableSource_33397120, source: [PythonInputFormatTableSource(name, age)]]])\n",
      "\n",
      "== Optimized Physical Plan ==\n",
      "Calc(select=[name, age], where=[<=(age, 30)])\n",
      "+- LegacyTableSourceScan(table=[[default_catalog, default_database, Unregistered_TableSource_33397120, source: [PythonInputFormatTableSource(name, age)]]], fields=[name, age])\n",
      "\n",
      "== Optimized Execution Plan ==\n",
      "Calc(select=[name, age], where=[(age <= 30)])\n",
      "+- LegacyTableSourceScan(table=[[default_catalog, default_database, Unregistered_TableSource_33397120, source: [PythonInputFormatTableSource(name, age)]]], fields=[name, age])\n",
      "\n"
     ]
    }
   ],
   "source": [
    "# SQL API also optimized\n",
    "# runs on Flink Client, shall use meta data, sources, no QUERY/no job submission\n",
    "# not using JOB/TASK maanger\n",
    "print(table3.explain())"
   ]
  },
  {
   "cell_type": "code",
   "execution_count": 19,
   "id": "8d892721-d40d-4d22-9081-92428e955d19",
   "metadata": {},
   "outputs": [],
   "source": [
    "# Flow Graph\n",
    "# Source ==> Operator 1 ==> Operator 2 ==> Sink"
   ]
  },
  {
   "cell_type": "code",
   "execution_count": 20,
   "id": "8adfda73-7928-457e-91d0-d48abc441098",
   "metadata": {},
   "outputs": [
    {
     "name": "stdout",
     "output_type": "stream",
     "text": [
      "+--------------------------------+----------------------+\n",
      "|                           name |                  age |\n",
      "+--------------------------------+----------------------+\n",
      "|                            Joe |                   28 |\n",
      "|                           Mary |                   34 |\n",
      "|                         Venkat |                   40 |\n",
      "+--------------------------------+----------------------+\n",
      "3 rows in set\n"
     ]
    },
    {
     "data": {
      "text/html": [
       "<div>\n",
       "<style scoped>\n",
       "    .dataframe tbody tr th:only-of-type {\n",
       "        vertical-align: middle;\n",
       "    }\n",
       "\n",
       "    .dataframe tbody tr th {\n",
       "        vertical-align: top;\n",
       "    }\n",
       "\n",
       "    .dataframe thead th {\n",
       "        text-align: right;\n",
       "    }\n",
       "</style>\n",
       "<table border=\"1\" class=\"dataframe\">\n",
       "  <thead>\n",
       "    <tr style=\"text-align: right;\">\n",
       "      <th></th>\n",
       "      <th>name</th>\n",
       "      <th>age</th>\n",
       "    </tr>\n",
       "  </thead>\n",
       "  <tbody>\n",
       "    <tr>\n",
       "      <th>0</th>\n",
       "      <td>Joe</td>\n",
       "      <td>28</td>\n",
       "    </tr>\n",
       "    <tr>\n",
       "      <th>1</th>\n",
       "      <td>Mary</td>\n",
       "      <td>34</td>\n",
       "    </tr>\n",
       "    <tr>\n",
       "      <th>2</th>\n",
       "      <td>Venkat</td>\n",
       "      <td>40</td>\n",
       "    </tr>\n",
       "  </tbody>\n",
       "</table>\n",
       "</div>"
      ],
      "text/plain": [
       "     name  age\n",
       "0     Joe   28\n",
       "1    Mary   34\n",
       "2  Venkat   40"
      ]
     },
     "execution_count": 20,
     "metadata": {},
     "output_type": "execute_result"
    }
   ],
   "source": [
    "# PYTHON Table API using Python, typically good for unregistered tables/query results/temp views\n",
    "from pyflink.table.expressions import col\n",
    "\n",
    "# return temp view\n",
    "# select is api , similar to SQL select\n",
    "# execute function parse the APIs like select, filter etc, then generate AST, generate DFG, then optimize and run Data Flow Graph\n",
    "table4 = employee_table.select ( col(\"name\"), col(\"age\") )\n",
    "# in spark we have action methods, exeucte, to_pandas are  similar to action method\n",
    "table4.execute().print()\n",
    "table4.to_pandas()"
   ]
  },
  {
   "cell_type": "code",
   "execution_count": 22,
   "id": "c552598f-f5d8-4eca-9ea1-33e5b53e6dbc",
   "metadata": {},
   "outputs": [
    {
     "name": "stdout",
     "output_type": "stream",
     "text": [
      "+--------------------------------+----------------------+\n",
      "|                           name |                  age |\n",
      "+--------------------------------+----------------------+\n",
      "|                            Joe |                   28 |\n",
      "+--------------------------------+----------------------+\n",
      "1 row in set\n"
     ]
    }
   ],
   "source": [
    "# Table API\n",
    "\n",
    "result5 = employee_table.filter ( col (\"age\") <= 30)\n",
    "result5.execute().print()"
   ]
  },
  {
   "cell_type": "code",
   "execution_count": 23,
   "id": "ce39f247-1217-4cb1-9217-d8b07a5fe319",
   "metadata": {},
   "outputs": [
    {
     "name": "stdout",
     "output_type": "stream",
     "text": [
      "(\n",
      "  `name` STRING,\n",
      "  `age` BIGINT\n",
      ")\n",
      "+--------------------------------+----------------------+\n",
      "|                           name |                  age |\n",
      "+--------------------------------+----------------------+\n",
      "|                            Joe |                   28 |\n",
      "+--------------------------------+----------------------+\n",
      "1 row in set\n"
     ]
    }
   ],
   "source": [
    "# Flow API, calling api on top of another API\n",
    "# \\ mean line continuation, no SPACE after \\\n",
    "result_table = employee_table.select ( col(\"name\"), col(\"age\") )\\\n",
    "                             .filter ( col (\"age\") <= 30)\n",
    "\n",
    "result_table.print_schema()\n",
    "result_table.execute().print()"
   ]
  },
  {
   "cell_type": "code",
   "execution_count": 25,
   "id": "49f7c9e0-6055-45ce-a3ab-4e01c2690860",
   "metadata": {},
   "outputs": [
    {
     "name": "stdout",
     "output_type": "stream",
     "text": [
      "== Abstract Syntax Tree ==\n",
      "LogicalFilter(condition=[<=($1, 30)])\n",
      "+- LogicalProject(name=[$0], age=[$1])\n",
      "   +- LogicalTableScan(table=[[default_catalog, default_database, Unregistered_TableSource_33397120, source: [PythonInputFormatTableSource(name, age)]]])\n",
      "\n",
      "== Optimized Physical Plan ==\n",
      "Calc(select=[name, age], where=[<=(age, 30)])\n",
      "+- LegacyTableSourceScan(table=[[default_catalog, default_database, Unregistered_TableSource_33397120, source: [PythonInputFormatTableSource(name, age)]]], fields=[name, age])\n",
      "\n",
      "== Optimized Execution Plan ==\n",
      "Calc(select=[name, age], where=[(age <= 30)])\n",
      "+- LegacyTableSourceScan(table=[[default_catalog, default_database, Unregistered_TableSource_33397120, source: [PythonInputFormatTableSource(name, age)]]], fields=[name, age])\n",
      "\n"
     ]
    }
   ],
   "source": [
    "# Using API from Java, Scala, Python or SQL statement directly bring the same result\n",
    "# at runtime, all the API/SQL converted into AST, Into Data Flow Graph DFG , then executed inside Job/Task Manager\n",
    "print(result_table.explain()) # table API, but the output will be SAME"
   ]
  },
  {
   "cell_type": "code",
   "execution_count": null,
   "id": "3d3d55c9-67e6-4197-ace2-a0d463efd5b4",
   "metadata": {},
   "outputs": [],
   "source": []
  }
 ],
 "metadata": {
  "kernelspec": {
   "display_name": "Python 3 (ipykernel)",
   "language": "python",
   "name": "python3"
  },
  "language_info": {
   "codemirror_mode": {
    "name": "ipython",
    "version": 3
   },
   "file_extension": ".py",
   "mimetype": "text/x-python",
   "name": "python",
   "nbconvert_exporter": "python",
   "pygments_lexer": "ipython3",
   "version": "3.8.12"
  }
 },
 "nbformat": 4,
 "nbformat_minor": 5
}
