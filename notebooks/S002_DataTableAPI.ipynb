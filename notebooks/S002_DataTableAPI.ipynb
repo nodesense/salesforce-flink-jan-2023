{
 "cells": [
  {
   "cell_type": "code",
   "execution_count": 1,
   "id": "7d1ce3cd-5c5c-4509-8ec8-e0280f9cc578",
   "metadata": {},
   "outputs": [
    {
     "name": "stderr",
     "output_type": "stream",
     "text": [
      "SLF4J: Class path contains multiple SLF4J bindings.\n",
      "SLF4J: Found binding in [jar:file:/opt/flink-1.15.3/lib/log4j-slf4j-impl-2.17.1.jar!/org/slf4j/impl/StaticLoggerBinder.class]\n",
      "SLF4J: Found binding in [jar:file:/opt/hadoop-2.7.7/share/hadoop/common/lib/slf4j-log4j12-1.7.10.jar!/org/slf4j/impl/StaticLoggerBinder.class]\n",
      "SLF4J: See http://www.slf4j.org/codes.html#multiple_bindings for an explanation.\n",
      "SLF4J: Actual binding is of type [org.apache.logging.slf4j.Log4jLoggerFactory]\n"
     ]
    }
   ],
   "source": [
    "from pyflink.table import EnvironmentSettings, TableEnvironment, DataTypes, CsvTableSource\n",
    "import datetime\n",
    "from pyflink.table.expressions import col\n",
    "from pyflink.table.window import Over, GroupWindow\n",
    "from pyflink.table.expressions import col, UNBOUNDED_RANGE, CURRENT_RANGE\n",
    "from pyflink.table.udf import udf\n",
    "# create a batch TableEnvironment\n",
    "env_settings = EnvironmentSettings.in_batch_mode()\n",
    "table_env = TableEnvironment.create(env_settings)"
   ]
  },
  {
   "cell_type": "code",
   "execution_count": 2,
   "id": "a356e536-4005-4381-b297-699768a91c35",
   "metadata": {},
   "outputs": [
    {
     "name": "stdout",
     "output_type": "stream",
     "text": [
      "\n",
      "Registered Tables List\n",
      "['invoices']\n",
      "\n",
      "Financial Trxs Schema\n",
      "(\n",
      "  `InvoiceNo` STRING,\n",
      "  `StockCode` STRING,\n",
      "  `Description` STRING,\n",
      "  `Quantity` DOUBLE,\n",
      "  `InvoiceDate` STRING,\n",
      "  `UnitPrice` DOUBLE,\n",
      "  `CustomerID` STRING,\n",
      "  `Country` STRING\n",
      ")\n"
     ]
    }
   ],
   "source": [
    "# InvoiceNo,StockCode,Description,Quantity,InvoiceDate,UnitPrice,CustomerID,Country\n",
    "# 536365,85123A,WHITE HANGING HEART T-LIGHT HOLDER,6,12/01/2010 8:26,2.55,17850,United Kingdom\n",
    "column_names = ['InvoiceNo', 'StockCode', 'Description', 'Quantity', \n",
    "                'InvoiceDate', 'UnitPrice', 'CustomerID', 'Country']\n",
    "\n",
    "column_types = [DataTypes.STRING(), DataTypes.STRING(), DataTypes.STRING(), DataTypes.DOUBLE(), \n",
    "                DataTypes.STRING(), DataTypes.DOUBLE(),DataTypes.STRING(), DataTypes.STRING()]\n",
    "\n",
    "source = CsvTableSource(\n",
    "   '/home/training/flink-dev/data/1k-dataset.csv',  \n",
    "    column_names,\n",
    "    column_types,\n",
    "    ignore_first_line=True,\n",
    "    quote_character='\"',\n",
    "    lenient=True\n",
    ")\n",
    "\n",
    "# source is data source -origin data is from\n",
    "# table is flink api\n",
    "# sink is target where data goes to after transformation\n",
    "table_env.register_table_source('invoices', source)\n",
    "\n",
    "# invoices is a table\n",
    "# get table from source\n",
    "invoices = table_env.from_path('invoices')\n",
    "\n",
    "\n",
    "##############################\n",
    "print('\\nRegistered Tables List')\n",
    "print(table_env.list_tables())\n",
    "\n",
    "print('\\nFinancial Trxs Schema')\n",
    "invoices.print_schema()"
   ]
  },
  {
   "cell_type": "code",
   "execution_count": 3,
   "id": "6c8f0f2d-76d2-429e-b879-f8de5010d5ad",
   "metadata": {},
   "outputs": [
    {
     "name": "stderr",
     "output_type": "stream",
     "text": [
      "WARNING: An illegal reflective access operation has occurred\n",
      "WARNING: Illegal reflective access by org.apache.flink.api.java.ClosureCleaner (file:/opt/flink-1.15.3/lib/flink-dist-1.15.3.jar) to field java.lang.String.value\n",
      "WARNING: Please consider reporting this to the maintainers of org.apache.flink.api.java.ClosureCleaner\n",
      "WARNING: Use --illegal-access=warn to enable warnings of further illegal reflective access operations\n",
      "WARNING: All illegal access operations will be denied in a future release\n"
     ]
    },
    {
     "name": "stdout",
     "output_type": "stream",
     "text": [
      "+--------------------------------+--------------------------------+--------------------------------+--------------------------------+--------------------------------+--------------------------------+--------------------------------+--------------------------------+\n",
      "|                      InvoiceNo |                      StockCode |                    Description |                       Quantity |                    InvoiceDate |                      UnitPrice |                     CustomerID |                        Country |\n",
      "+--------------------------------+--------------------------------+--------------------------------+--------------------------------+--------------------------------+--------------------------------+--------------------------------+--------------------------------+\n",
      "|                         536393 |                          22180 |                 RETROSPOT LAMP |                            8.0 |               12/01/2010 10:37 |                           9.95 |                          13747 |                 United Kingdom |\n",
      "|                         536394 |                          21506 |     FANCY FONT BIRTHDAY CARD,  |                           24.0 |               12/01/2010 10:39 |                           0.42 |                          13408 |                 United Kingdom |\n",
      "|                         536394 |                          22633 |         HAND WARMER UNION JACK |                           96.0 |               12/01/2010 10:39 |                           1.85 |                          13408 |                 United Kingdom |\n",
      "+--------------------------------+--------------------------------+--------------------------------+--------------------------------+--------------------------------+--------------------------------+--------------------------------+--------------------------------+\n",
      "3 rows in set\n"
     ]
    }
   ],
   "source": [
    "invoices.fetch(3).execute().print()"
   ]
  },
  {
   "cell_type": "code",
   "execution_count": 4,
   "id": "19de791f-6923-4c89-999c-aa4505c7b593",
   "metadata": {},
   "outputs": [
    {
     "name": "stdout",
     "output_type": "stream",
     "text": [
      "2010-01-12 08:26:00\n"
     ]
    },
    {
     "data": {
      "text/plain": [
       "'2010-01-12 08:26:00'"
      ]
     },
     "execution_count": 4,
     "metadata": {},
     "output_type": "execute_result"
    }
   ],
   "source": [
    "#         .column_by_expression(\"rowtime\", \"CAST(f0 AS TIMESTAMP(3))\") \\\n",
    "\n",
    "# Flink understand ANSI SQL date format, UTC format\n",
    "\n",
    "# datetime in string format for may 25 1999\n",
    "input = '12/01/2010 8:26'\n",
    "  \n",
    "# format\n",
    "format = '%d/%m/%Y %H:%M'\n",
    "  \n",
    "# convert from string format to datetime format\n",
    "dt = datetime.datetime.strptime(input, format)\n",
    "  \n",
    "# get the date from the datetime using date() \n",
    "# function\n",
    "print(dt)\n",
    "\n",
    "new_format = '%Y-%m-%d %H:%M:%S'   # SQL Format, which flink can understand\n",
    "dt.strftime(new_format)"
   ]
  },
  {
   "cell_type": "code",
   "execution_count": 5,
   "id": "b2c64c01-1f09-4cea-9c14-d70044344dd0",
   "metadata": {},
   "outputs": [],
   "source": [
    "# UDF - User Defined Function, python/scala/java\n",
    "# UDF code is not optimized by flink, python udf shall run on Python VM ie python runtime\n",
    "def convertDateFormat2(input):\n",
    "    # format\n",
    "    format = '%d/%m/%Y %H:%M'\n",
    "  \n",
    "    # convert from string format to datetime format\n",
    "    dt = datetime.datetime.strptime(input, format)\n",
    "    new_format = '%Y-%m-%d %H:%M:%S' \n",
    "    return dt.strftime(new_format)\n",
    "\n",
    "# creating a python function as UDF, first parameter is date string, return type is date string\n",
    "# Since function has input(s)/multiple args with data types, and the function return output with datatype\n",
    "# the middle one, [DataTypes.STRING()] is for input arg(s), input arg is basically a string type\n",
    "# last one  DataTypes.STRING() is RETURN type from the function , only one return value\n",
    "convertDateFormat = udf(convertDateFormat2, [DataTypes.STRING()], DataTypes.STRING())"
   ]
  },
  {
   "cell_type": "code",
   "execution_count": 6,
   "id": "31d34201-08e9-4005-a1cc-7051d9633e7f",
   "metadata": {},
   "outputs": [
    {
     "name": "stdout",
     "output_type": "stream",
     "text": [
      "(\n",
      "  `InvoiceNo` STRING,\n",
      "  `StockCode` STRING,\n",
      "  `Description` STRING,\n",
      "  `Quantity` DOUBLE,\n",
      "  `UnitPrice` DOUBLE,\n",
      "  `CustomerID` STRING,\n",
      "  `Country` STRING,\n",
      "  `InvoiceDate` TIMESTAMP(3),\n",
      "  `Amount` DOUBLE\n",
      ")\n"
     ]
    }
   ],
   "source": [
    "# convert data time string to SQL date time string format as new column CInvoiceDate\n",
    "# drop Orignal InvoiceDate which is string \n",
    "# Cast CInvoiceDate which is SQL date time stirng to TIMESTAMP(3) 3 means precision and \n",
    "# create new Column InvoiceDate which TIMESTAMP type\n",
    "# drop temp col CInvoiceDate\n",
    "invoices2 = invoices.add_columns(convertDateFormat(col('InvoiceDate')).alias('CInvoiceDate'))\\\n",
    "                    .drop_columns(col('InvoiceDate'))\\\n",
    "                    .add_columns(col(\"CInvoiceDate\").cast(DataTypes.TIMESTAMP(3)).alias(\"InvoiceDate\"))\\\n",
    "                    .drop_columns(col('CInvoiceDate'))\\\n",
    "                    .add_columns( (col(\"Quantity\") * col(\"UnitPrice\")).alias(\"Amount\"))\n",
    "\n",
    "invoices2.print_schema()"
   ]
  },
  {
   "cell_type": "code",
   "execution_count": 7,
   "id": "b85aa199-13f1-43aa-8652-c53666b5b05e",
   "metadata": {},
   "outputs": [],
   "source": [
    "table_env.register_table('invoices2', invoices2)"
   ]
  },
  {
   "cell_type": "code",
   "execution_count": 8,
   "id": "4daa36c7-d200-4b72-a161-5b06addc2563",
   "metadata": {},
   "outputs": [
    {
     "name": "stdout",
     "output_type": "stream",
     "text": [
      "+--------------------------------+--------------------------------+--------------------------------+--------------------------------+\n",
      "|                      InvoiceNo |                       Quantity |                      UnitPrice |                         Amount |\n",
      "+--------------------------------+--------------------------------+--------------------------------+--------------------------------+\n",
      "|                         536381 |                            2.0 |                           2.55 |                            5.1 |\n",
      "|                         536381 |                            1.0 |                           0.85 |                           0.85 |\n",
      "|                         536381 |                            1.0 |                           0.85 |                           0.85 |\n",
      "|                         536381 |                            1.0 |                           1.45 |                           1.45 |\n",
      "|                         536381 |                            1.0 |                           4.95 |                           4.95 |\n",
      "|                         536381 |                            2.0 |                           2.95 |                            5.9 |\n",
      "|                         536381 |                            2.0 |                           5.95 |                           11.9 |\n",
      "|                         536381 |                            2.0 |                           5.95 |                           11.9 |\n",
      "|                         536381 |                            4.0 |                           1.45 |                            5.8 |\n",
      "|                         536381 |                            1.0 |                           2.95 |                           2.95 |\n",
      "|                         536381 |                            1.0 |                           1.95 |                           1.95 |\n",
      "|                         536381 |                            2.0 |                           1.65 |                            3.3 |\n",
      "|                         536381 |                            3.0 |                           3.95 |             11.850000000000001 |\n",
      "|                         536381 |                           36.0 |                           1.06 |             38.160000000000004 |\n",
      "|                         536381 |                           10.0 |                           6.75 |                           67.5 |\n",
      "|                        C536379 |                           -1.0 |                           27.5 |                          -27.5 |\n",
      "|                         536382 |                           12.0 |                           0.85 |                           10.2 |\n",
      "|                         536382 |                            8.0 |                           3.75 |                           30.0 |\n",
      "|                         536382 |                           12.0 |                           1.65 |             19.799999999999997 |\n",
      "|                         536382 |                           10.0 |                           1.95 |                           19.5 |\n",
      "+--------------------------------+--------------------------------+--------------------------------+--------------------------------+\n",
      "20 rows in set\n"
     ]
    }
   ],
   "source": [
    "result = table_env.sql_query(\"SELECT InvoiceNo, Quantity, UnitPrice, Amount from invoices2\")\n",
    "result.fetch(20).execute().print()"
   ]
  },
  {
   "cell_type": "code",
   "execution_count": 9,
   "id": "37074ffd-b3ab-4d81-b1f2-95bed2587ad7",
   "metadata": {},
   "outputs": [
    {
     "name": "stdout",
     "output_type": "stream",
     "text": [
      "+--------------------------------+--------------------------------+--------------------------------+----------------------+\n",
      "|                      InvoiceNo |                            Qty |                    TotalAmount |          UniqueItems |\n",
      "+--------------------------------+--------------------------------+--------------------------------+----------------------+\n",
      "|                         536368 |                           15.0 |              70.05000000000001 |                    4 |\n",
      "|                         536370 |                          449.0 |                         855.86 |                   20 |\n",
      "|                         536380 |                           24.0 |                           34.8 |                    1 |\n",
      "|                         536500 |                          102.0 |             223.90000000000003 |                   15 |\n",
      "|                         536403 |                           97.0 |             192.60000000000002 |                    2 |\n",
      "|                         536404 |                          438.0 |             471.29999999999995 |                   28 |\n",
      "|                         536382 |                          134.0 |             430.59999999999997 |                   12 |\n",
      "|                         536396 |                          102.0 |             376.36000000000007 |                   18 |\n",
      "|                         536397 |                           60.0 |                          279.0 |                    2 |\n",
      "|                         536437 |                         1004.0 |                         842.12 |                    6 |\n",
      "|                         536463 |                           12.0 |                           17.4 |                    1 |\n",
      "|                         536464 |                          160.0 |             277.34999999999997 |                   85 |\n",
      "|                         536488 |                           72.0 |                         165.89 |                   35 |\n",
      "|                         536372 |                           12.0 |             22.200000000000003 |                    2 |\n",
      "|                         536374 |                           32.0 |                          350.4 |                    1 |\n",
      "|                         536381 |                          198.0 |              449.9799999999999 |                   35 |\n",
      "|                         536385 |                           53.0 |                         130.85 |                    7 |\n",
      "|                         536390 |                         1568.0 |                        1825.74 |                   24 |\n",
      "|                        C536391 |                         -132.0 |            -141.48000000000002 |                    7 |\n",
      "|                         536393 |                            8.0 |                           79.6 |                    1 |\n",
      "|                         536395 |                          260.0 |              507.8800000000001 |                   14 |\n",
      "|                         536402 |                          116.0 |                          357.0 |                    3 |\n",
      "|                         536425 |                          137.0 |             362.45000000000005 |                   17 |\n",
      "|                         536407 |                           12.0 |             22.200000000000003 |                    2 |\n",
      "|                         536398 |                          150.0 |             426.56000000000006 |                   17 |\n",
      "|                         536399 |                           12.0 |             22.200000000000003 |                    2 |\n",
      "|                         536400 |                           12.0 |                           17.4 |                    1 |\n",
      "|                         536384 |                          190.0 |                          489.6 |                   13 |\n",
      "|                         536366 |                           12.0 |             22.200000000000003 |                    2 |\n",
      "|                         536373 |                           88.0 |                         259.86 |                   16 |\n",
      "|                        C536506 |                           -6.0 |                          -25.5 |                    1 |\n",
      "|                         536520 |                          156.0 |             268.36999999999995 |                   55 |\n",
      "|                         536415 |                          228.0 |             390.78999999999996 |                   59 |\n",
      "|                         536394 |                          544.0 |             1024.6800000000003 |                   11 |\n",
      "|                         536405 |                          128.0 |                          326.4 |                    1 |\n",
      "|                         536378 |                          454.0 |                         444.98 |                   19 |\n",
      "|                        C536383 |                           -1.0 |                          -4.65 |                    1 |\n",
      "|                         536371 |                           80.0 |                          204.0 |                    1 |\n",
      "|                         536377 |                           12.0 |             22.200000000000003 |                    2 |\n",
      "|                         536409 |                          173.0 |             243.27999999999997 |                   58 |\n",
      "|                         536446 |                          329.0 |                         440.89 |                   32 |\n",
      "|                         536414 |                           56.0 |                            0.0 |                    1 |\n",
      "|                         536508 |                          216.0 |                         155.52 |                    2 |\n",
      "|                         536514 |                          118.0 |             295.50000000000006 |                    5 |\n",
      "|                         536466 |                           18.0 |                           42.9 |                    2 |\n",
      "|                         536367 |                           83.0 |                         278.73 |                   12 |\n",
      "|                         536375 |                           88.0 |                         259.86 |                   16 |\n",
      "|                        C536379 |                           -1.0 |                          -27.5 |                    1 |\n",
      "|                         536387 |                         1440.0 |                        3193.92 |                    5 |\n",
      "|                         536388 |                          108.0 |                         226.14 |                   14 |\n",
      "|                         536401 |                          124.0 |             354.22999999999996 |                   64 |\n",
      "|                         536416 |                          110.0 |                          225.7 |                    6 |\n",
      "|                         536406 |                           96.0 |             353.14000000000004 |                   17 |\n",
      "|                         536408 |                          558.0 |              783.1099999999999 |                   48 |\n",
      "|                         536412 |                          220.0 |              514.4099999999999 |                   81 |\n",
      "|                         536423 |                           78.0 |             303.90000000000003 |                    9 |\n",
      "|                         536386 |                          236.0 |             508.20000000000005 |                    3 |\n",
      "|                         536392 |                          103.0 |             318.14000000000004 |                   10 |\n",
      "|                         536365 |                           40.0 |                         139.12 |                    7 |\n",
      "|                         536376 |                          112.0 |                          328.8 |                    2 |\n",
      "|                         536460 |                          158.0 |             295.53999999999996 |                   14 |\n",
      "|                         536389 |                          107.0 |                         358.25 |                   14 |\n",
      "|                         536369 |                            3.0 |                          17.85 |                    1 |\n",
      "|                         536420 |                          111.0 |             233.45000000000002 |                   14 |\n",
      "|                         536477 |                         1070.0 |                        2474.74 |                   14 |\n",
      "|                         536502 |                           39.0 |                          95.29 |                    5 |\n",
      "+--------------------------------+--------------------------------+--------------------------------+----------------------+\n",
      "66 rows in set\n"
     ]
    }
   ],
   "source": [
    "results = invoices2.group_by ( col(\"InvoiceNo\") )\\\n",
    "                   .select( col(\"InvoiceNo\"), \n",
    "                            col(\"Quantity\").sum.alias(\"Qty\"),\n",
    "                            col(\"Amount\").sum.alias(\"TotalAmount\"),\n",
    "                            col(\"InvoiceNo\").count.alias(\"UniqueItems\") )\n",
    "\n",
    "results.execute().print()"
   ]
  },
  {
   "cell_type": "code",
   "execution_count": null,
   "id": "59c6070a-f763-4eb9-a851-bf78b3ae6b11",
   "metadata": {},
   "outputs": [],
   "source": [
    "print(results.explain())"
   ]
  },
  {
   "cell_type": "code",
   "execution_count": null,
   "id": "59307d0b-75ff-4452-82ea-4cff8715317b",
   "metadata": {},
   "outputs": [],
   "source": [
    "result = table_env.sql_query(\"\"\"\n",
    "SELECT InvoiceNo, sum(Quantity)  as Qty, sum(Amount) as TotalAmount, \n",
    "        count(InvoiceNo) as UniqueItems\n",
    "        \n",
    "FROM invoices2\n",
    "GROUP BY InvoiceNo\n",
    "\"\"\")\n",
    "\n",
    "result.fetch(5).execute().print()\n",
    "result.print_schema()\n",
    "\n",
    "# source table\n",
    "table_env.register_table(  \"analytics_results_source\", result)"
   ]
  },
  {
   "cell_type": "code",
   "execution_count": 10,
   "id": "8149a6bf-97c0-4d38-a38e-1d10e95bd8fc",
   "metadata": {},
   "outputs": [
    {
     "name": "stdout",
     "output_type": "stream",
     "text": [
      "== Abstract Syntax Tree ==\n",
      "LogicalProject(InvoiceNo=[$0], Quantity=[$3], UnitPrice=[$5], Amount=[*($3, $5)])\n",
      "+- LogicalTableScan(table=[[default_catalog, default_database, invoices, source: [CsvTableSource(read fields: InvoiceNo, StockCode, Description, Quantity, InvoiceDate, UnitPrice, CustomerID, Country)]]])\n",
      "\n",
      "== Optimized Physical Plan ==\n",
      "Calc(select=[InvoiceNo, Quantity, UnitPrice, *(Quantity, UnitPrice) AS Amount])\n",
      "+- LegacyTableSourceScan(table=[[default_catalog, default_database, invoices, source: [CsvTableSource(read fields: InvoiceNo, Quantity, UnitPrice)]]], fields=[InvoiceNo, Quantity, UnitPrice])\n",
      "\n",
      "== Optimized Execution Plan ==\n",
      "Calc(select=[InvoiceNo, Quantity, UnitPrice, (Quantity * UnitPrice) AS Amount])\n",
      "+- LegacyTableSourceScan(table=[[default_catalog, default_database, invoices, source: [CsvTableSource(read fields: InvoiceNo, Quantity, UnitPrice)]]], fields=[InvoiceNo, Quantity, UnitPrice])\n",
      "\n"
     ]
    }
   ],
   "source": [
    "print(result.explain())"
   ]
  },
  {
   "cell_type": "code",
   "execution_count": 11,
   "id": "6b517bf1-a14a-42fa-8a31-aeac0beedf2d",
   "metadata": {},
   "outputs": [
    {
     "data": {
      "text/plain": [
       "<pyflink.table.table_result.TableResult at 0x7f6398608670>"
      ]
     },
     "execution_count": 11,
     "metadata": {},
     "output_type": "execute_result"
    }
   ],
   "source": [
    "# create a sink table that prints the output, later will cover mysql/postgres/kafka\n",
    "# WE only created table for sinking result, that print on console as we use print connector\n",
    "table_env.execute_sql(\"\"\"\n",
    "CREATE TABLE invoice_temp_sink (\n",
    "  InvoiceNo STRING,\n",
    "  Qty DOUBLE,\n",
    "  TotalAmount DOUBLE,\n",
    "  UniqueItems  BIGINT NOT NULL\n",
    ") WITH (\n",
    "    'connector' = 'print'\n",
    ")\n",
    "\"\"\")"
   ]
  },
  {
   "cell_type": "code",
   "execution_count": null,
   "id": "cb8d05ad-6c5b-4485-bc21-151a01f3cd99",
   "metadata": {},
   "outputs": [],
   "source": [
    "print('\\nRegistered Tables List')\n",
    "print(table_env.list_tables())"
   ]
  },
  {
   "cell_type": "code",
   "execution_count": null,
   "id": "5ee4590c-55ef-4923-bd93-e3f6abbca49a",
   "metadata": {},
   "outputs": [],
   "source": [
    "# Create Data Flow Graph merging source [csv], operators [invoices2, groupby/sum] into sink table [invoice_temp_sink]\n",
    "# now take results from analytics_results_source table and write to invoice_temp_sink\n",
    "# wait should not be used in remote job, just for debugging purpose\n",
    "table_env.execute_sql(\"INSERT INTO invoice_temp_sink SELECT * FROM analytics_results_source\").wait()\n",
    "# +I - Insert\n",
    "# the result is printed below, because we use connector: print, which prices on console/termianl output"
   ]
  },
  {
   "cell_type": "code",
   "execution_count": null,
   "id": "df1fa0bb-7eda-4fee-a20c-badb3371cbd5",
   "metadata": {},
   "outputs": [],
   "source": [
    "# create a sink table that prints the output, later will cover mysql/postgres/kafka\n",
    "\n",
    "\n",
    "# blackhole connector doesn't print anything, does nothing with data, but ignore it\n",
    "table_env.execute_sql(\"\"\"\n",
    "CREATE TABLE invoice_temp_sink_blackhole (\n",
    "  InvoiceNo STRING,\n",
    "  Qty DOUBLE,\n",
    "  TotalAmount DOUBLE,\n",
    "  UniqueItems  BIGINT NOT NULL\n",
    ") WITH (\n",
    "    'connector' = 'blackhole'\n",
    ")\n",
    "\"\"\")\n",
    "\n",
    "# we have 3 sinks invoice_temp_sink, invoice_temp_sink_mysql, invoice_temp_sink_kafka"
   ]
  },
  {
   "cell_type": "code",
   "execution_count": null,
   "id": "2e939795-b163-410d-be8e-db6c20e3a47b",
   "metadata": {},
   "outputs": [],
   "source": [
    "# below statement process data, does analytics, result is pushed into blackhole connector, that sucks the result\n",
    "# , does not print\n",
    "\n",
    "table_env.execute_sql(\"INSERT INTO invoice_temp_sink_blackhole SELECT * FROM analytics_results_source\").wait()"
   ]
  },
  {
   "cell_type": "code",
   "execution_count": null,
   "id": "8a8e2102-72e9-4303-b137-df25464e7477",
   "metadata": {},
   "outputs": [],
   "source": [
    "# use statementsets to load and process analytisc once and write results into mulitple destination\n",
    "# create             statementsets\n",
    "statement_set = table_env.create_statement_set()\n",
    "\n",
    "# statement set uisng python using python api\n",
    "\n",
    "# Emit the result into sink table\n",
    "\n",
    "statement_set.add_insert(\"invoice_temp_sink\", result) # result is table from analytics query, print console\n",
    "#statement_set.add_insert(\"invoice_temp_sink_mysql\", result) # result is table from analytics query, print console\n",
    "statement_set.add_insert(\"invoice_temp_sink_blackhole\", result) # result is table from analytics query, blackhole, doesn't print\n",
    "\n",
    "# now execute statement set, this load csv, perform analytics, insert data into all 3 sink tables\n",
    "statement_set.execute().wait()"
   ]
  },
  {
   "cell_type": "code",
   "execution_count": null,
   "id": "a26eedbe-d95b-45cc-a79c-a4dc68364ca8",
   "metadata": {},
   "outputs": [],
   "source": [
    "print(statement_set.explain())"
   ]
  },
  {
   "cell_type": "code",
   "execution_count": null,
   "id": "a0e4875c-f80e-4a9a-832a-0c0754c080d8",
   "metadata": {},
   "outputs": [],
   "source": [
    "# Now statement set using Flink SQL\n",
    "# we can mix flink sql and table api\n",
    "# create statemetn set\n",
    "\n",
    "# source table: analytics_results_source\n",
    "# sink target tables   invoice_temp_sink, invoice_temp_sink_mysql, invoice_temp_sink_kafka\n",
    "statement_set = table_env.create_statement_set()\n",
    "\n",
    "statement_set.add_insert_sql(\"INSERT INTO invoice_temp_sink SELECT * FROM analytics_results_source\")\n",
    "#statement_set.add_insert_sql(\"INSERT INTO invoice_temp_sink_mysql SELECT * FROM analytics_results_source\")\n",
    "statement_set.add_insert_sql(\"INSERT INTO invoice_temp_sink_blackhole SELECT * FROM analytics_results_source\")\n",
    "\n",
    "print(statement_set.explain())\n",
    "# execute the statement set \n",
    "statement_set.execute().wait()"
   ]
  },
  {
   "cell_type": "code",
   "execution_count": null,
   "id": "cb395e7a-e1ef-4f43-b91d-60d13529a6e3",
   "metadata": {},
   "outputs": [],
   "source": []
  }
 ],
 "metadata": {
  "kernelspec": {
   "display_name": "Python 3 (ipykernel)",
   "language": "python",
   "name": "python3"
  },
  "language_info": {
   "codemirror_mode": {
    "name": "ipython",
    "version": 3
   },
   "file_extension": ".py",
   "mimetype": "text/x-python",
   "name": "python",
   "nbconvert_exporter": "python",
   "pygments_lexer": "ipython3",
   "version": "3.8.12"
  }
 },
 "nbformat": 4,
 "nbformat_minor": 5
}
