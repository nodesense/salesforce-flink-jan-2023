{
 "cells": [
  {
   "cell_type": "code",
   "execution_count": 1,
   "id": "0869c4f7-2fd5-4b81-899f-56bbac6ce288",
   "metadata": {},
   "outputs": [
    {
     "name": "stderr",
     "output_type": "stream",
     "text": [
      "SLF4J: Class path contains multiple SLF4J bindings.\n",
      "SLF4J: Found binding in [jar:file:/opt/flink-1.15.3/lib/log4j-slf4j-impl-2.17.1.jar!/org/slf4j/impl/StaticLoggerBinder.class]\n",
      "SLF4J: Found binding in [jar:file:/opt/hadoop-2.7.7/share/hadoop/common/lib/slf4j-log4j12-1.7.10.jar!/org/slf4j/impl/StaticLoggerBinder.class]\n",
      "SLF4J: See http://www.slf4j.org/codes.html#multiple_bindings for an explanation.\n",
      "SLF4J: Actual binding is of type [org.apache.logging.slf4j.Log4jLoggerFactory]\n"
     ]
    }
   ],
   "source": [
    "from pyflink.table import EnvironmentSettings, TableEnvironment, DataTypes, CsvTableSource\n",
    "import datetime\n",
    "from pyflink.table.expressions import col\n",
    "from pyflink.table.window import Over, GroupWindow\n",
    "from pyflink.table.expressions import col, UNBOUNDED_RANGE, CURRENT_RANGE\n",
    "from pyflink.table.udf import udf\n",
    "# create a batch TableEnvironment\n",
    "env_settings = EnvironmentSettings.in_batch_mode()\n",
    "table_env = TableEnvironment.create(env_settings)"
   ]
  },
  {
   "cell_type": "code",
   "execution_count": 2,
   "id": "683aefc7-8f07-4e15-9dd1-04c242dab1a3",
   "metadata": {},
   "outputs": [
    {
     "name": "stdout",
     "output_type": "stream",
     "text": [
      "\n",
      "Registered Tables List\n",
      "['invoices']\n",
      "\n",
      "Financial Trxs Schema\n",
      "(\n",
      "  `InvoiceNo` STRING,\n",
      "  `StockCode` STRING,\n",
      "  `Description` STRING,\n",
      "  `Quantity` DOUBLE,\n",
      "  `InvoiceDate` TIMESTAMP(3),\n",
      "  `UnitPrice` DOUBLE,\n",
      "  `CustomerID` STRING,\n",
      "  `Country` STRING\n",
      ")\n"
     ]
    },
    {
     "name": "stderr",
     "output_type": "stream",
     "text": [
      "WARNING: An illegal reflective access operation has occurred\n",
      "WARNING: Illegal reflective access by org.apache.flink.api.java.ClosureCleaner (file:/opt/flink-1.15.3/lib/flink-dist-1.15.3.jar) to field java.lang.String.value\n",
      "WARNING: Please consider reporting this to the maintainers of org.apache.flink.api.java.ClosureCleaner\n",
      "WARNING: Use --illegal-access=warn to enable warnings of further illegal reflective access operations\n",
      "WARNING: All illegal access operations will be denied in a future release\n"
     ]
    },
    {
     "name": "stdout",
     "output_type": "stream",
     "text": [
      "+--------------------------------+--------------------------------+--------------------------------+--------------------------------+-------------------------+--------------------------------+--------------------------------+--------------------------------+\n",
      "|                      InvoiceNo |                      StockCode |                    Description |                       Quantity |             InvoiceDate |                      UnitPrice |                     CustomerID |                        Country |\n",
      "+--------------------------------+--------------------------------+--------------------------------+--------------------------------+-------------------------+--------------------------------+--------------------------------+--------------------------------+\n",
      "|                        C554528 |                          23110 |         PARISIENNE KEY CABINET |                           -4.0 | 2011-05-24 17:26:00.000 |                           5.75 |                          14217 |                 United Kingdom |\n",
      "|                        C554529 |                          23174 |       REGENCY SUGAR BOWL GREEN |                           -1.0 | 2011-05-24 17:27:00.000 |                           4.15 |                          14226 |                 United Kingdom |\n",
      "|                        C554529 |                          23075 |      PARLOUR CERAMIC WALL HOOK |                           -1.0 | 2011-05-24 17:27:00.000 |                           4.15 |                          14226 |                 United Kingdom |\n",
      "+--------------------------------+--------------------------------+--------------------------------+--------------------------------+-------------------------+--------------------------------+--------------------------------+--------------------------------+\n",
      "3 rows in set\n"
     ]
    }
   ],
   "source": [
    "# InvoiceNo,StockCode,Description,Quantity,InvoiceDate,UnitPrice,CustomerID,Country\n",
    "# 536365,85123A,WHITE HANGING HEART T-LIGHT HOLDER,6,12/01/2010 8:26,2.55,17850,United Kingdom\n",
    "column_names = ['InvoiceNo', 'StockCode', 'Description', 'Quantity', \n",
    "                'InvoiceDate', 'UnitPrice', 'CustomerID', 'Country']\n",
    "\n",
    "column_types = [DataTypes.STRING(), DataTypes.STRING(), DataTypes.STRING(), DataTypes.DOUBLE(), \n",
    "                DataTypes.TIMESTAMP(3), DataTypes.DOUBLE(),DataTypes.STRING(), DataTypes.STRING()]\n",
    "\n",
    "source = CsvTableSource(\n",
    "   '/home/training/flink-dev/data/ecommerce-clean.csv',  \n",
    "    column_names,\n",
    "    column_types,\n",
    "    ignore_first_line=False,\n",
    "    quote_character='\"',\n",
    "    lenient=True\n",
    ")\n",
    "\n",
    "# source is data source -origin data is from\n",
    "# table is flink api\n",
    "# sink is target where data goes to after transformation\n",
    "table_env.register_table_source('invoices', source)\n",
    "\n",
    "# invoices is a table\n",
    "invoices = table_env.from_path('invoices')\n",
    "\n",
    "\n",
    "##############################\n",
    "print('\\nRegistered Tables List')\n",
    "print(table_env.list_tables())\n",
    "\n",
    "print('\\nFinancial Trxs Schema')\n",
    "invoices.print_schema()\n",
    "\n",
    "invoices.fetch(3).execute().print()"
   ]
  },
  {
   "cell_type": "code",
   "execution_count": 3,
   "id": "c64fc8db-2e6e-4401-a469-c7c382927c7d",
   "metadata": {},
   "outputs": [
    {
     "name": "stdout",
     "output_type": "stream",
     "text": [
      "(\n",
      "  `hour` TIMESTAMP(3),\n",
      "  `Qty` DOUBLE\n",
      ")\n",
      "+-------------------------+--------------------------------+\n",
      "|                    hour |                            Qty |\n",
      "+-------------------------+--------------------------------+\n",
      "| 2011-03-28 13:00:00.000 |                         1567.0 |\n",
      "| 2011-03-28 14:00:00.000 |                         1498.0 |\n",
      "| 2011-03-28 15:00:00.000 |                         1230.0 |\n",
      "| 2011-03-28 16:00:00.000 |                         3455.0 |\n",
      "| 2011-03-28 17:00:00.000 |                          769.0 |\n",
      "| 2011-03-29 09:00:00.000 |                          275.0 |\n",
      "| 2011-03-29 10:00:00.000 |                          782.0 |\n",
      "| 2011-03-29 11:00:00.000 |                          602.0 |\n",
      "| 2011-03-29 12:00:00.000 |                        12998.0 |\n",
      "| 2011-03-29 13:00:00.000 |                          769.0 |\n",
      "| 2011-03-29 14:00:00.000 |                         7248.0 |\n",
      "| 2011-03-29 15:00:00.000 |                         1035.0 |\n",
      "| 2011-03-29 16:00:00.000 |                         1655.0 |\n",
      "| 2011-03-29 17:00:00.000 |                         6698.0 |\n",
      "| 2011-03-29 18:00:00.000 |                          351.0 |\n",
      "| 2011-03-30 10:00:00.000 |                         2790.0 |\n",
      "| 2011-03-30 11:00:00.000 |                         2132.0 |\n",
      "| 2011-03-30 12:00:00.000 |                         2203.0 |\n",
      "| 2011-03-30 13:00:00.000 |                         1947.0 |\n",
      "| 2011-03-30 14:00:00.000 |                         4198.0 |\n",
      "| 2011-03-30 15:00:00.000 |                         2163.0 |\n",
      "| 2011-03-30 16:00:00.000 |                         3535.0 |\n",
      "| 2011-03-30 17:00:00.000 |                          484.0 |\n",
      "| 2011-03-30 18:00:00.000 |                          267.0 |\n",
      "| 2011-03-31 10:00:00.000 |                         1413.0 |\n",
      "| 2011-03-31 11:00:00.000 |                         1752.0 |\n",
      "| 2011-03-31 12:00:00.000 |                         1669.0 |\n",
      "| 2011-03-31 13:00:00.000 |                          391.0 |\n",
      "| 2011-03-31 14:00:00.000 |                         5829.0 |\n",
      "| 2011-03-31 15:00:00.000 |                          705.0 |\n",
      "+-------------------------+--------------------------------+\n",
      "30 rows in set\n"
     ]
    }
   ],
   "source": [
    "# what is 1 hour transactions \n",
    "# how many transactions per hour\n",
    "# Tumble window - non overlapping, fixed size window\n",
    "# data is processed only once in a window\n",
    "from pyflink.table.expressions import col, lit\n",
    "from pyflink.table.window import Tumble\n",
    "# lit - literal, useful constant data\n",
    "result = invoices\\\n",
    "                 .select(col(\"InvoiceDate\"),   col(\"Quantity\"))\\\n",
    "                 .window(Tumble.over(lit(1).hour).on(col(\"InvoiceDate\")).alias(\"hourly_window\")) \\\n",
    "                 .group_by(col('hourly_window')) \\\n",
    "                   .select(col('hourly_window').end.alias('hour'), col(\"Quantity\").sum.alias('Qty'))\n",
    " \n",
    "                         \n",
    "result.print_schema()\n",
    "result.fetch(30).execute().print()"
   ]
  },
  {
   "cell_type": "code",
   "execution_count": 4,
   "id": "83254382-7bbd-4ea6-ac02-cdc73ecc65cb",
   "metadata": {},
   "outputs": [
    {
     "name": "stdout",
     "output_type": "stream",
     "text": [
      "(\n",
      "  `start_time` TIMESTAMP(3),\n",
      "  `end_time` TIMESTAMP(3),\n",
      "  `Qty` DOUBLE,\n",
      "  `TotalAmount` DOUBLE\n",
      ")\n",
      "+-------------------------+-------------------------+--------------------------------+--------------------------------+\n",
      "|              start_time |                end_time |                            Qty |                    TotalAmount |\n",
      "+-------------------------+-------------------------+--------------------------------+--------------------------------+\n",
      "| 2011-01-23 13:00:00.000 | 2011-01-23 14:00:00.000 |                          727.0 |             1335.1299999999997 |\n",
      "| 2011-01-23 14:00:00.000 | 2011-01-23 15:00:00.000 |                          449.0 |              890.8700000000003 |\n",
      "| 2011-01-23 15:00:00.000 | 2011-01-23 16:00:00.000 |                          962.0 |             1473.1400000000003 |\n",
      "| 2011-01-23 16:00:00.000 | 2011-01-23 17:00:00.000 |                         1203.0 |                        2561.82 |\n",
      "| 2011-01-24 08:00:00.000 | 2011-01-24 09:00:00.000 |                          100.0 |                          165.0 |\n",
      "| 2011-01-24 09:00:00.000 | 2011-01-24 10:00:00.000 |                         1218.0 |              3460.590000000007 |\n",
      "| 2011-01-24 10:00:00.000 | 2011-01-24 11:00:00.000 |                         2307.0 |             4210.5300000000025 |\n",
      "| 2011-01-24 11:00:00.000 | 2011-01-24 12:00:00.000 |                         1599.0 |                        4565.44 |\n",
      "| 2011-01-24 12:00:00.000 | 2011-01-24 13:00:00.000 |                          653.0 |             1424.6100000000001 |\n",
      "| 2011-01-24 13:00:00.000 | 2011-01-24 14:00:00.000 |                         3298.0 |              6491.890000000002 |\n",
      "| 2011-01-24 14:00:00.000 | 2011-01-24 15:00:00.000 |                         1911.0 |             3671.4599999999996 |\n",
      "| 2011-01-24 15:00:00.000 | 2011-01-24 16:00:00.000 |                          566.0 |                        1082.24 |\n",
      "| 2011-01-24 16:00:00.000 | 2011-01-24 17:00:00.000 |                          258.0 |             483.85999999999996 |\n",
      "| 2011-01-25 08:00:00.000 | 2011-01-25 09:00:00.000 |                          629.0 |             1002.6900000000002 |\n",
      "| 2011-01-25 09:00:00.000 | 2011-01-25 10:00:00.000 |                          672.0 |             1728.3800000000008 |\n",
      "| 2011-01-25 10:00:00.000 | 2011-01-25 11:00:00.000 |                         3366.0 |              4410.020000000002 |\n",
      "| 2011-01-25 11:00:00.000 | 2011-01-25 12:00:00.000 |                         2243.0 |              3564.379999999999 |\n",
      "| 2011-01-25 12:00:00.000 | 2011-01-25 13:00:00.000 |                         2415.0 |             4046.3799999999997 |\n",
      "| 2011-01-25 13:00:00.000 | 2011-01-25 14:00:00.000 |                         3956.0 |              8848.910000000003 |\n",
      "| 2011-01-25 14:00:00.000 | 2011-01-25 15:00:00.000 |                         1396.0 |                         3680.0 |\n",
      "| 2011-01-25 15:00:00.000 | 2011-01-25 16:00:00.000 |                          692.0 |                         927.44 |\n",
      "| 2011-01-25 16:00:00.000 | 2011-01-25 17:00:00.000 |                          118.0 |             453.78000000000003 |\n",
      "| 2011-01-25 17:00:00.000 | 2011-01-25 18:00:00.000 |                         -694.0 |             -690.4599999999999 |\n",
      "| 2011-01-26 08:00:00.000 | 2011-01-26 09:00:00.000 |                          128.0 |                          326.4 |\n",
      "| 2011-01-26 09:00:00.000 | 2011-01-26 10:00:00.000 |                          267.0 |                        1315.35 |\n",
      "| 2011-01-26 10:00:00.000 | 2011-01-26 11:00:00.000 |                          973.0 |                        1955.16 |\n",
      "| 2011-01-26 11:00:00.000 | 2011-01-26 12:00:00.000 |                         3496.0 |              2680.740000000001 |\n",
      "| 2011-01-26 12:00:00.000 | 2011-01-26 13:00:00.000 |                         2216.0 |             3921.4099999999994 |\n",
      "| 2011-01-26 13:00:00.000 | 2011-01-26 14:00:00.000 |                         1565.0 |             3206.4800000000014 |\n",
      "| 2011-01-26 14:00:00.000 | 2011-01-26 15:00:00.000 |                          964.0 |             1911.2000000000012 |\n",
      "+-------------------------+-------------------------+--------------------------------+--------------------------------+\n",
      "30 rows in set\n"
     ]
    }
   ],
   "source": [
    "# what is 1 hour transactions \n",
    "# how many transactions per hour\n",
    "# Tumble window - non overlapping, fixed size window\n",
    "# data is processed only once in a window\n",
    "from pyflink.table.expressions import col, lit\n",
    "from pyflink.table.window import Tumble\n",
    "# lit - literal, useful constant data\n",
    "result = invoices\\\n",
    "                 .select(col(\"InvoiceDate\"), col(\"Quantity\"), (col('Quantity') * col('UnitPrice')).alias(\"Amount\") )\\\n",
    "                 .window(Tumble.over(lit(1).hour).on(col(\"InvoiceDate\")).alias(\"hourly_window\")) \\\n",
    "                 .group_by(col('hourly_window')) \\\n",
    "                   .select(col('hourly_window').start.alias('start_time'), \n",
    "                           col('hourly_window').end.alias('end_time'), \n",
    "                           col(\"Quantity\").sum.alias('Qty'),\n",
    "                           col(\"Amount\").sum.alias('TotalAmount'),\n",
    "                          )\n",
    " \n",
    "                         \n",
    "result.print_schema()\n",
    "result.fetch(30).execute().print()"
   ]
  },
  {
   "cell_type": "code",
   "execution_count": null,
   "id": "9aa80801-24ee-47b7-8ac8-e404ef96104b",
   "metadata": {},
   "outputs": [],
   "source": []
  }
 ],
 "metadata": {
  "kernelspec": {
   "display_name": "Python 3 (ipykernel)",
   "language": "python",
   "name": "python3"
  },
  "language_info": {
   "codemirror_mode": {
    "name": "ipython",
    "version": 3
   },
   "file_extension": ".py",
   "mimetype": "text/x-python",
   "name": "python",
   "nbconvert_exporter": "python",
   "pygments_lexer": "ipython3",
   "version": "3.8.12"
  }
 },
 "nbformat": 4,
 "nbformat_minor": 5
}
