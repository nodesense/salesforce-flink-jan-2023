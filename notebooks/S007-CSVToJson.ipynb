{
 "cells": [
  {
   "cell_type": "code",
   "execution_count": 1,
   "id": "b43c29bb-0ac1-4b0b-be7f-7ee978108f83",
   "metadata": {},
   "outputs": [
    {
     "name": "stderr",
     "output_type": "stream",
     "text": [
      "SLF4J: Class path contains multiple SLF4J bindings.\n",
      "SLF4J: Found binding in [jar:file:/opt/flink-1.15.3/lib/log4j-slf4j-impl-2.17.1.jar!/org/slf4j/impl/StaticLoggerBinder.class]\n",
      "SLF4J: Found binding in [jar:file:/opt/hadoop-2.7.7/share/hadoop/common/lib/slf4j-log4j12-1.7.10.jar!/org/slf4j/impl/StaticLoggerBinder.class]\n",
      "SLF4J: See http://www.slf4j.org/codes.html#multiple_bindings for an explanation.\n",
      "SLF4J: Actual binding is of type [org.apache.logging.slf4j.Log4jLoggerFactory]\n"
     ]
    }
   ],
   "source": [
    "from pyflink.table import EnvironmentSettings, TableEnvironment, DataTypes, CsvTableSource\n",
    "import datetime\n",
    "from pyflink.table.expressions import col\n",
    "from pyflink.table.window import Over, GroupWindow\n",
    "from pyflink.table.expressions import col, UNBOUNDED_RANGE, CURRENT_RANGE\n",
    "from pyflink.table.udf import udf\n",
    "# create a batch TableEnvironment\n",
    "env_settings = EnvironmentSettings.in_batch_mode()\n",
    "table_env = TableEnvironment.create(env_settings)\n",
    "#table_env.get_config().get_configuration().set_string(\"pipeline.jars\", \"file:///opt/flink-1.15.0/lib/flink-sql-orc-1.15.0.jar\")\n",
    "#table_env.get_config().get_configuration().set_string(\"pipeline.jars\", \"file:///opt/flink-1.15.3/lib/flink-json-1.15.3.jar\")"
   ]
  },
  {
   "cell_type": "code",
   "execution_count": 2,
   "id": "6ff786d7-39ce-4fa8-8c84-47e37bc8f453",
   "metadata": {},
   "outputs": [
    {
     "name": "stdout",
     "output_type": "stream",
     "text": [
      "\n",
      "Registered Tables List\n",
      "['invoices']\n",
      "\n",
      "Financial Trxs Schema\n",
      "(\n",
      "  `InvoiceNo` STRING,\n",
      "  `StockCode` STRING,\n",
      "  `Description` STRING,\n",
      "  `Quantity` DOUBLE,\n",
      "  `InvoiceDate` TIMESTAMP(3),\n",
      "  `UnitPrice` DOUBLE,\n",
      "  `CustomerID` STRING,\n",
      "  `Country` STRING,\n",
      "  WATERMARK FOR `InvoiceDate`: TIMESTAMP(3) AS `InvoiceDate` - INTERVAL '1' SECOND\n",
      ")\n"
     ]
    }
   ],
   "source": [
    "# InvoiceNo,StockCode,Description,Quantity,InvoiceDate,UnitPrice,CustomerID,Country\n",
    "# 536365,85123A,WHITE HANGING HEART T-LIGHT HOLDER,6,12/01/2010 8:26,2.55,17850,United Kingdom\n",
    "# here we use source connector called filesystem [reading files/folder,nfs,hdfs etc]\n",
    "source_ddl = \"\"\"\n",
    "            CREATE TABLE invoices (\n",
    "                   InvoiceNo STRING,\n",
    "                   StockCode  STRING,\n",
    "                   Description  STRING,\n",
    "                   Quantity DOUBLE,\n",
    "                   InvoiceDate TIMESTAMP(3),\n",
    "                   UnitPrice DOUBLE,\n",
    "                   CustomerID STRING,\n",
    "                   Country STRING,\n",
    "                   WATERMARK FOR InvoiceDate AS InvoiceDate - INTERVAL '1' SECOND\n",
    "\n",
    "                    ) WITH (\n",
    "                      'connector' = 'filesystem',          \n",
    "                     'path' = 'file:////home/training/flink-dev/data/ecommerce-clean.csv', \n",
    "                      'format' = 'csv'\n",
    "                    )\"\"\"\n",
    "\n",
    "# this will create flink table called invoices in default catalog and default db\n",
    "table_env.execute_sql(source_ddl) \n",
    "\n",
    "invoices = table_env.from_path(\"invoices\")\n",
    "##############################\n",
    "print('\\nRegistered Tables List')\n",
    "print(table_env.list_tables())\n",
    "\n",
    "print('\\nFinancial Trxs Schema')\n",
    "invoices.print_schema()"
   ]
  },
  {
   "cell_type": "code",
   "execution_count": 3,
   "id": "ea152549-5451-4c74-8366-bbbf9a9b557f",
   "metadata": {},
   "outputs": [
    {
     "data": {
      "text/plain": [
       "<pyflink.table.table_result.TableResult at 0x7ff8542c9040>"
      ]
     },
     "execution_count": 3,
     "metadata": {},
     "output_type": "execute_result"
    }
   ],
   "source": [
    "# format is json, json jar already present in lib directory, loaded into memory by default\n",
    "sink_ddl_parquet=f\"\"\"\n",
    "    create table `EComJsonResult`(\n",
    "                 InvoiceNo STRING,\n",
    "                   StockCode  STRING,\n",
    "                   Description  STRING,\n",
    "                   Quantity DOUBLE,\n",
    "                   InvoiceDate TIMESTAMP(3),\n",
    "                   UnitPrice DOUBLE,\n",
    "                   CustomerID STRING,\n",
    "                   Country STRING\n",
    "    ) with (\n",
    "        'connector' = 'filesystem',\n",
    "        'format' = 'json',\n",
    "         'path' = 'file:////home/training/flink-dev/data/ecommerce-clean.json'\n",
    "    )\n",
    "    \"\"\"\n",
    "\n",
    "table_env.execute_sql(sink_ddl_parquet)"
   ]
  },
  {
   "cell_type": "code",
   "execution_count": 4,
   "id": "6fd1e98c-9a34-4b43-bbbd-87f328cfa28c",
   "metadata": {},
   "outputs": [
    {
     "name": "stderr",
     "output_type": "stream",
     "text": [
      "WARNING: An illegal reflective access operation has occurred\n",
      "WARNING: Illegal reflective access by org.apache.flink.api.java.ClosureCleaner (file:/opt/flink-1.15.3/lib/flink-dist-1.15.3.jar) to field java.util.LinkedHashMap.serialVersionUID\n",
      "WARNING: Please consider reporting this to the maintainers of org.apache.flink.api.java.ClosureCleaner\n",
      "WARNING: Use --illegal-access=warn to enable warnings of further illegal reflective access operations\n",
      "WARNING: All illegal access operations will be denied in a future release\n"
     ]
    },
    {
     "data": {
      "text/plain": [
       "<pyflink.table.table_result.TableResult at 0x7ff7d829c9d0>"
      ]
     },
     "execution_count": 4,
     "metadata": {},
     "output_type": "execute_result"
    }
   ],
   "source": [
    "table_env.execute_sql(\"INSERT INTO EComJsonResult select * from invoices\").wait()\n",
    "invoices.execute_insert(\"EComJsonResult\")"
   ]
  },
  {
   "cell_type": "code",
   "execution_count": null,
   "id": "95341028-6153-4398-b1b4-24e70918e571",
   "metadata": {},
   "outputs": [],
   "source": []
  }
 ],
 "metadata": {
  "kernelspec": {
   "display_name": "Python 3 (ipykernel)",
   "language": "python",
   "name": "python3"
  },
  "language_info": {
   "codemirror_mode": {
    "name": "ipython",
    "version": 3
   },
   "file_extension": ".py",
   "mimetype": "text/x-python",
   "name": "python",
   "nbconvert_exporter": "python",
   "pygments_lexer": "ipython3",
   "version": "3.8.12"
  }
 },
 "nbformat": 4,
 "nbformat_minor": 5
}
