{
 "cells": [
  {
   "cell_type": "code",
   "execution_count": 3,
   "id": "caa72cd5-a38c-46e1-8066-02c8b0fae96d",
   "metadata": {},
   "outputs": [],
   "source": [
    "from pyflink.common import WatermarkStrategy, Row\n",
    "from pyflink.common.serialization import Encoder\n",
    "from pyflink.common.typeinfo import Types\n",
    "from pyflink.datastream import StreamExecutionEnvironment\n",
    "#from pyflink.datastream.connectors.file_system import FileSink, OutputFileConfig\n",
    "#from pyflink.datastream.connectors.number_seq import NumberSequenceSource\n",
    "from pyflink.datastream.functions import RuntimeContext, MapFunction\n",
    "from pyflink.datastream.state import ValueStateDescriptor\n"
   ]
  },
  {
   "cell_type": "code",
   "execution_count": 4,
   "id": "8bb4eb40-c4b0-48fd-aac9-3be865ae6149",
   "metadata": {},
   "outputs": [],
   "source": [
    "\n",
    "class MyMapFunction(MapFunction):\n",
    "\n",
    "    def open(self, runtime_context: RuntimeContext):\n",
    "        state_desc = ValueStateDescriptor('cnt', Types.PICKLED_BYTE_ARRAY())\n",
    "        self.cnt_state = runtime_context.get_state(state_desc)\n",
    "\n",
    "    def map(self, value):\n",
    "        cnt = self.cnt_state.value()\n",
    "        if cnt is None or cnt < 2:\n",
    "            self.cnt_state.update(1 if cnt is None else cnt + 1)\n",
    "            return value[0], value[1] + 1\n",
    "        else:\n",
    "            return value[0], value[1]"
   ]
  },
  {
   "cell_type": "code",
   "execution_count": null,
   "id": "cd166813-230f-4032-9e6b-0dccbd9ec873",
   "metadata": {},
   "outputs": [],
   "source": []
  }
 ],
 "metadata": {
  "kernelspec": {
   "display_name": "Python 3 (ipykernel)",
   "language": "python",
   "name": "python3"
  },
  "language_info": {
   "codemirror_mode": {
    "name": "ipython",
    "version": 3
   },
   "file_extension": ".py",
   "mimetype": "text/x-python",
   "name": "python",
   "nbconvert_exporter": "python",
   "pygments_lexer": "ipython3",
   "version": "3.8.12"
  }
 },
 "nbformat": 4,
 "nbformat_minor": 5
}
