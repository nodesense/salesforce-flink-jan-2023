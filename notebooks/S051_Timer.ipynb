{
 "cells": [
  {
   "cell_type": "code",
   "execution_count": 6,
   "id": "c4a1048b-8c46-4856-9dfe-9f504c971499",
   "metadata": {},
   "outputs": [],
   "source": [
    "from pyflink.common import Time, WatermarkStrategy, Duration\n",
    "from pyflink.common.typeinfo import Types\n",
    "from pyflink.common.watermark_strategy import TimestampAssigner\n",
    "from pyflink.datastream import StreamExecutionEnvironment\n",
    "from pyflink.datastream.functions import ProcessFunction, KeyedProcessFunction, RuntimeContext\n",
    "from pyflink.datastream.state import ValueStateDescriptor, StateTtlConfig"
   ]
  },
  {
   "cell_type": "code",
   "execution_count": 2,
   "id": "4ce40019-613e-400a-a928-bf2d29dc6189",
   "metadata": {},
   "outputs": [],
   "source": [
    "class Sum(KeyedProcessFunction):\n",
    "\n",
    "    def __init__(self):\n",
    "        self.state = None\n",
    "\n",
    "    def open(self, runtime_context: RuntimeContext):\n",
    "        state_descriptor = ValueStateDescriptor(\"state\", Types.FLOAT())\n",
    "        state_ttl_config = StateTtlConfig \\\n",
    "            .new_builder(Time.seconds(1)) \\\n",
    "            .set_update_type(StateTtlConfig.UpdateType.OnReadAndWrite) \\\n",
    "            .disable_cleanup_in_background() \\\n",
    "            .build()\n",
    "        state_descriptor.enable_time_to_live(state_ttl_config)\n",
    "        self.state = runtime_context.get_state(state_descriptor)\n",
    "\n",
    "    def process_element(self, value, ctx: 'KeyedProcessFunction.Context'):\n",
    "        # retrieve the current count\n",
    "        current = self.state.value()\n",
    "        if current is None:\n",
    "            current = 0\n",
    "\n",
    "        # update the state's count\n",
    "        current += value[2]\n",
    "        self.state.update(current)\n",
    "\n",
    "        # register an event time timer 2 seconds later\n",
    "        ctx.timer_service().register_event_time_timer(ctx.timestamp() + 2000)\n",
    "\n",
    "    def on_timer(self, timestamp: int, ctx: 'KeyedProcessFunction.OnTimerContext'):\n",
    "        yield ctx.get_current_key(), self.state.value()"
   ]
  },
  {
   "cell_type": "code",
   "execution_count": 3,
   "id": "fca75895-e3ff-42fe-8545-e57a77078872",
   "metadata": {},
   "outputs": [],
   "source": [
    "class MyTimestampAssigner(TimestampAssigner):\n",
    "\n",
    "    def extract_timestamp(self, value, record_timestamp: int) -> int:\n",
    "        return int(value[0])"
   ]
  },
  {
   "cell_type": "code",
   "execution_count": 4,
   "id": "b0da0ec5-dc74-4c78-9191-90ca2fd72775",
   "metadata": {},
   "outputs": [],
   "source": [
    "def event_timer_timer_demo():\n",
    "    env = StreamExecutionEnvironment.get_execution_environment()\n",
    "\n",
    "    ds = env.from_collection(\n",
    "        collection=[\n",
    "            (1000, 'Alice', 110.1),\n",
    "            (4000, 'Bob', 30.2),\n",
    "            (3000, 'Alice', 20.0),\n",
    "            (2000, 'Bob', 53.1),\n",
    "            (5000, 'Alice', 13.1),\n",
    "            (3000, 'Bob', 3.1),\n",
    "            (7000, 'Bob', 16.1),\n",
    "            (10000, 'Alice', 20.1)\n",
    "        ],\n",
    "        type_info=Types.TUPLE([Types.LONG(), Types.STRING(), Types.FLOAT()]))\n",
    "\n",
    "    ds = ds.assign_timestamps_and_watermarks(\n",
    "        WatermarkStrategy.for_bounded_out_of_orderness(Duration.of_seconds(2))\n",
    "                         .with_timestamp_assigner(MyTimestampAssigner()))\n",
    "\n",
    "    # apply the process function onto a keyed stream\n",
    "    ds.key_by(lambda value: value[1]) \\\n",
    "      .process(Sum()) \\\n",
    "      .print()\n",
    "\n",
    "    # submit for execution\n",
    "    env.execute()"
   ]
  },
  {
   "cell_type": "code",
   "execution_count": 5,
   "id": "ce46be48-df23-4d91-9f76-0f1e3146ad7b",
   "metadata": {},
   "outputs": [
    {
     "name": "stderr",
     "output_type": "stream",
     "text": [
      "SLF4J: Class path contains multiple SLF4J bindings.\n",
      "SLF4J: Found binding in [jar:file:/opt/flink-1.15.3/lib/log4j-slf4j-impl-2.17.1.jar!/org/slf4j/impl/StaticLoggerBinder.class]\n",
      "SLF4J: Found binding in [jar:file:/opt/hadoop-2.7.7/share/hadoop/common/lib/slf4j-log4j12-1.7.10.jar!/org/slf4j/impl/StaticLoggerBinder.class]\n",
      "SLF4J: See http://www.slf4j.org/codes.html#multiple_bindings for an explanation.\n",
      "SLF4J: Actual binding is of type [org.apache.logging.slf4j.Log4jLoggerFactory]\n",
      "WARNING: An illegal reflective access operation has occurred\n",
      "WARNING: Illegal reflective access by org.apache.flink.api.java.ClosureCleaner (file:/opt/flink-1.15.3/lib/flink-dist-1.15.3.jar) to field java.lang.String.value\n",
      "WARNING: Please consider reporting this to the maintainers of org.apache.flink.api.java.ClosureCleaner\n",
      "WARNING: Use --illegal-access=warn to enable warnings of further illegal reflective access operations\n",
      "WARNING: All illegal access operations will be denied in a future release\n",
      "Exception in thread read_grpc_client_inputs:\n",
      "Traceback (most recent call last):\n",
      "  File \"/home/training/miniconda3/lib/python3.8/threading.py\", line 932, in _bootstrap_inner\n",
      "    self.run()\n",
      "  File \"/home/training/miniconda3/lib/python3.8/threading.py\", line 870, in run\n",
      "    self._target(*self._args, **self._kwargs)\n",
      "  File \"/home/training/flink-dev/lib/python3.8/site-packages/apache_beam/runners/worker/data_plane.py\", line 598, in <lambda>\n",
      "    target=lambda: self._read_inputs(elements_iterator),\n",
      "  File \"/home/training/flink-dev/lib/python3.8/site-packages/apache_beam/runners/worker/data_plane.py\", line 581, in _read_inputs\n",
      "    for elements in elements_iterator:\n",
      "  File \"/home/training/flink-dev/lib/python3.8/site-packages/grpc/_channel.py\", line 426, in __next__\n",
      "    return self._next()\n",
      "  File \"/home/training/flink-dev/lib/python3.8/site-packages/grpc/_channel.py\", line 826, in _next\n",
      "    raise self\n",
      "grpc._channel._MultiThreadedRendezvous: <_MultiThreadedRendezvous of RPC that terminated with:\n",
      "\tstatus = StatusCode.CANCELLED\n",
      "\tdetails = \"Multiplexer hanging up\"\n",
      "\tdebug_error_string = \"UNKNOWN:Error received from peer ipv6:%5B::1%5D:34399 {created_time:\"2023-01-18T20:22:02.610830224+05:30\", grpc_status:1, grpc_message:\"Multiplexer hanging up\"}\"\n",
      ">\n"
     ]
    },
    {
     "name": "stdout",
     "output_type": "stream",
     "text": [
      "4> ('Alice', 163.3000030517578)\n",
      "4> ('Alice', 163.3000030517578)\n",
      "4> ('Alice', 163.3000030517578)\n",
      "4> ('Alice', 163.3000030517578)\n",
      "1> ('Bob', 102.5)\n",
      "1> ('Bob', 102.5)\n",
      "1> ('Bob', 102.5)\n",
      "1> ('Bob', 102.5)\n"
     ]
    }
   ],
   "source": [
    " event_timer_timer_demo()\n"
   ]
  },
  {
   "cell_type": "code",
   "execution_count": null,
   "id": "9f6b99ff-da2e-49b0-862b-c10b98cc6c15",
   "metadata": {},
   "outputs": [],
   "source": []
  }
 ],
 "metadata": {
  "kernelspec": {
   "display_name": "Python 3 (ipykernel)",
   "language": "python",
   "name": "python3"
  },
  "language_info": {
   "codemirror_mode": {
    "name": "ipython",
    "version": 3
   },
   "file_extension": ".py",
   "mimetype": "text/x-python",
   "name": "python",
   "nbconvert_exporter": "python",
   "pygments_lexer": "ipython3",
   "version": "3.8.12"
  }
 },
 "nbformat": 4,
 "nbformat_minor": 5
}
